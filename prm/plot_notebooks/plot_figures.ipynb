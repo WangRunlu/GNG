{
 "cells": [
  {
   "cell_type": "code",
   "execution_count": 3,
   "metadata": {},
   "outputs": [],
   "source": [
    "# %matplotlib inline"
   ]
  },
  {
   "cell_type": "code",
   "execution_count": 4,
   "metadata": {},
   "outputs": [
    {
     "name": "stdout",
     "output_type": "stream",
     "text": [
      "[NbConvertApp] Converting notebook plot_figures.ipynb to script\n",
      "[NbConvertApp] Writing 8077 bytes to plot_figures.py\n"
     ]
    }
   ],
   "source": [
    "! jupyter nbconvert --to script plot_figures.ipynb"
   ]
  },
  {
   "cell_type": "code",
   "execution_count": 5,
   "metadata": {},
   "outputs": [],
   "source": [
    "import pickle as pk \n",
    "import pandas as pd\n",
    "import os \n",
    "import seaborn as sns\n",
    "import matplotlib.pyplot as plt\n",
    "from copy import deepcopy as cpy "
   ]
  },
  {
   "cell_type": "code",
   "execution_count": 5,
   "metadata": {},
   "outputs": [],
   "source": [
    "# os.listdir(\"../\")\n",
    "# for m in method_list:\n",
    "#     file_name = \"../\"+method_to_save_dir_map[m]+method_to_save_file_map[m]+\".pickle\"\n",
    "#     new_file_name = file_name.replace(\"freiburg\",\"intel\")\n",
    "#     os.system(\"cp \"+file_name+\" \"+new_file_name)"
   ]
  },
  {
   "cell_type": "code",
   "execution_count": 6,
   "metadata": {},
   "outputs": [
    {
     "name": "stdout",
     "output_type": "stream",
     "text": [
      "../gng_output/intel_gng1208_200.pickle\n",
      "../gng_top_output/intel_gngtop_1208_200.pickle\n",
      "../gng_top_feedback_output/intel_gngtop_feedback_1208_200.pickle\n",
      "../prm_output/intel_prm1208.pickle\n",
      "../prm_dense_output/intel_prmdense_2500.pickle\n",
      "../prm_dense_hilbert_output/intel_prmdense_hilbert4000.pickle\n",
      "../gng_output/freiburg_gng1208_200.pickle\n",
      "../gng_top_output/freiburg_gngtop_1208_200.pickle\n",
      "../gng_top_feedback_output/freiburg_gngtop_feedback_1208_200.pickle\n",
      "../prm_output/freiburg_prm1208.pickle\n",
      "../prm_dense_output/freiburg_prmdense_2500.pickle\n",
      "../prm_dense_hilbert_output/freiburg_prmdense_hilbert4000.pickle\n",
      "../gng_output/fhw_gng1208_200.pickle\n",
      "../gng_top_output/fhw_gngtop_1208_200.pickle\n",
      "../gng_top_feedback_output/fhw_gngtop_feedback_1208_200.pickle\n",
      "../prm_output/fhw_prm1208.pickle\n",
      "../prm_dense_output/fhw_prmdense_2500.pickle\n",
      "../prm_dense_hilbert_output/fhw_prmdense_hilbert4000.pickle\n"
     ]
    }
   ],
   "source": [
    "env_list = [\"Intel\", \"Freiburg\", \"FHW\"] # add fhw later \n",
    "method_list = [\"gng\", \"gng_top\", \"gng_top_feedback\", \"prm_1000\", \"prm_4000\", \"prm_2000\"]\n",
    "\n",
    "# roadmap_types = [\"gng_top\", \"gng\"]\n",
    "\n",
    "method_env_to_pickle_file_map = {}\n",
    "\n",
    "def get_file_path(env:str,method:str)->str:\n",
    "    map_naming = {\"Intel\": \"intel\", \"Freiburg\": \"freiburg\", \"FHW\":\"fhw\"}\n",
    "    method_dir = {\"gng\": \"gng_output/\", \"gng_top\": \"gng_top_output/\", \"gng_top_feedback\": \"gng_top_feedback_output/\", \"prm_1000\": \"prm_output/\",\n",
    "                     \"prm_4000\": \"prm_dense_output/\", \"prm_2000\": \"prm_dense_hilbert_output/\"}\n",
    "\n",
    "    method_naming = {\"gng\": \"gng1208_200\", \"gng_top\": \"gngtop_1208_200\", \"gng_top_feedback\": \"gngtop_feedback_1208_200\",\n",
    "                               \"prm_1000\": \"prm1208\", \"prm_4000\": \"prmdense_2500\", \"prm_2000\": \"prmdense_hilbert4000\"}\n",
    "    file_path = f\"../{method_dir[method]}{map_naming[env]}_{method_naming[method]}.pickle\"\n",
    "    print(file_path)\n",
    "    return file_path\n",
    "\n",
    "for e in env_list:\n",
    "    method_env_to_pickle_file_map[e]={}\n",
    "    for m in method_list:\n",
    "        method_env_to_pickle_file_map[e][m] = pk.load(open(get_file_path(e,m), \"rb\"))"
   ]
  },
  {
   "cell_type": "code",
   "execution_count": 7,
   "metadata": {},
   "outputs": [],
   "source": [
    "pd_df = pd.DataFrame.from_dict({\"Row_id\":[],\"all_method_success\":[],\"MAP\":[],\"Method\":[],\"success\":[], \"node_explored\":[], \"path_cost\":[]})\n",
    "def check_if_need_plotting(i,env):\n",
    "    method_list = [\"gng\", \"gng_top\", \"gng_top_feedback\", \"prm_4000\", \"prm_2000\"]\n",
    "    bool_list= [method_env_to_pickle_file_map[env][m][0][i] for m in method_list]\n",
    "    return sum(bool_list)==len(bool_list)\n",
    "\n",
    "for env in env_list:\n",
    "    for m in method_list:\n",
    "        for i,data in enumerate(zip(*method_env_to_pickle_file_map[env][m])):\n",
    "            s, n, p = data\n",
    "            pd_df.loc[len(pd_df)] = (i,check_if_need_plotting(i,env),env,m,s,n if n is not None else \"NA\",p if p is not None else \"NA\")\n",
    "#             pd_df.loc[len(pd_df)] = (i,check_if_need_plotting(i),\"Dummy\",m,s,n,p)   "
   ]
  },
  {
   "cell_type": "code",
   "execution_count": 8,
   "metadata": {},
   "outputs": [
    {
     "data": {
      "text/html": [
       "<div>\n",
       "<style scoped>\n",
       "    .dataframe tbody tr th:only-of-type {\n",
       "        vertical-align: middle;\n",
       "    }\n",
       "\n",
       "    .dataframe tbody tr th {\n",
       "        vertical-align: top;\n",
       "    }\n",
       "\n",
       "    .dataframe thead th {\n",
       "        text-align: right;\n",
       "    }\n",
       "</style>\n",
       "<table border=\"1\" class=\"dataframe\">\n",
       "  <thead>\n",
       "    <tr style=\"text-align: right;\">\n",
       "      <th></th>\n",
       "      <th>Row_id</th>\n",
       "      <th>all_method_success</th>\n",
       "      <th>MAP</th>\n",
       "      <th>Method</th>\n",
       "      <th>success</th>\n",
       "      <th>node_explored</th>\n",
       "      <th>path_cost</th>\n",
       "    </tr>\n",
       "  </thead>\n",
       "  <tbody>\n",
       "    <tr>\n",
       "      <th>0</th>\n",
       "      <td>0.0</td>\n",
       "      <td>0.0</td>\n",
       "      <td>Intel</td>\n",
       "      <td>gng</td>\n",
       "      <td>1.0</td>\n",
       "      <td>312</td>\n",
       "      <td>15.8515</td>\n",
       "    </tr>\n",
       "    <tr>\n",
       "      <th>1</th>\n",
       "      <td>1.0</td>\n",
       "      <td>1.0</td>\n",
       "      <td>Intel</td>\n",
       "      <td>gng</td>\n",
       "      <td>1.0</td>\n",
       "      <td>32</td>\n",
       "      <td>2.97691</td>\n",
       "    </tr>\n",
       "    <tr>\n",
       "      <th>2</th>\n",
       "      <td>2.0</td>\n",
       "      <td>0.0</td>\n",
       "      <td>Intel</td>\n",
       "      <td>gng</td>\n",
       "      <td>0.0</td>\n",
       "      <td>NA</td>\n",
       "      <td>NA</td>\n",
       "    </tr>\n",
       "    <tr>\n",
       "      <th>3</th>\n",
       "      <td>3.0</td>\n",
       "      <td>0.0</td>\n",
       "      <td>Intel</td>\n",
       "      <td>gng</td>\n",
       "      <td>1.0</td>\n",
       "      <td>538</td>\n",
       "      <td>27.3121</td>\n",
       "    </tr>\n",
       "    <tr>\n",
       "      <th>4</th>\n",
       "      <td>4.0</td>\n",
       "      <td>0.0</td>\n",
       "      <td>Intel</td>\n",
       "      <td>gng</td>\n",
       "      <td>0.0</td>\n",
       "      <td>NA</td>\n",
       "      <td>NA</td>\n",
       "    </tr>\n",
       "  </tbody>\n",
       "</table>\n",
       "</div>"
      ],
      "text/plain": [
       "   Row_id  all_method_success    MAP Method  success node_explored path_cost\n",
       "0     0.0                 0.0  Intel    gng      1.0           312   15.8515\n",
       "1     1.0                 1.0  Intel    gng      1.0            32   2.97691\n",
       "2     2.0                 0.0  Intel    gng      0.0            NA        NA\n",
       "3     3.0                 0.0  Intel    gng      1.0           538   27.3121\n",
       "4     4.0                 0.0  Intel    gng      0.0            NA        NA"
      ]
     },
     "execution_count": 8,
     "metadata": {},
     "output_type": "execute_result"
    }
   ],
   "source": [
    "pd_df.head()"
   ]
  },
  {
   "cell_type": "code",
   "execution_count": 12,
   "metadata": {},
   "outputs": [],
   "source": [
    "filtered_method_list = [\"gng\", \"gng_top\", \"gng_top_feedback\", \"prm_4000\", \"prm_2000\"]"
   ]
  },
  {
   "cell_type": "code",
   "execution_count": 28,
   "metadata": {},
   "outputs": [],
   "source": [
    "# ax = sns.barplot(data = pd_df[(pd_df[\"all_method_success\"]==1) & \n",
    "#                               (pd_df[\"Method\"].isin(filtered_method_list))],\n",
    "#                 y = \"node_explored\",hue = \"MAP\" ,  x= \"Method\")\n",
    "# plt.savefig(\"node_explored_bar_plot.eps\")"
   ]
  },
  {
   "cell_type": "code",
   "execution_count": 29,
   "metadata": {},
   "outputs": [],
   "source": [
    "# ax = sns.barplot(data = pd_df[(pd_df[\"all_method_success\"]==1) & \n",
    "#                               (pd_df[\"Method\"].isin(filtered_method_list))],\n",
    "#                 y = \"node_explored\",x = \"MAP\" ,  hue= \"Method\")\n",
    "# # plt.savefig(\"node_explored_bar_plot.eps\")"
   ]
  },
  {
   "cell_type": "code",
   "execution_count": 30,
   "metadata": {},
   "outputs": [],
   "source": [
    "# plt.gcf().clear()\n",
    "# plt.clf()"
   ]
  },
  {
   "cell_type": "code",
   "execution_count": 13,
   "metadata": {},
   "outputs": [
    {
     "name": "stdout",
     "output_type": "stream",
     "text": [
      "Method\n"
     ]
    },
    {
     "data": {
      "image/png": "[encoded data removed]",
      "text/plain": [
       "<Figure size 432x432 with 1 Axes>"
      ]
     },
     "metadata": {},
     "output_type": "display_data"
    }
   ],
   "source": [
    "plot_df =cpy( pd_df[(pd_df[\"all_method_success\"]==1) & \n",
    "                              (pd_df[\"Method\"].isin(filtered_method_list))])\n",
    "plot_df[\"node_explored\"] = pd.to_numeric(plot_df[\"node_explored\"])\n",
    "plt.figure(figsize=(6,6))\n",
    "ax = sns.boxplot(data =plot_df,\n",
    "                y = \"node_explored\", hue = \"MAP\", order=[\"prm_4000\",\"gng\", \"gng_top\", \"gng_top_feedback\", \"prm_2000\"],  x= \"Method\")\n",
    "plt.subplots_adjust(bottom=0.25)\n",
    "ax.set_xticklabels(\n",
    "    ax.get_xticklabels(), \n",
    "    rotation=45, \n",
    "    horizontalalignment='right',\n",
    "#     fontweight='light',\n",
    "#     fontsize='x-large'\n",
    ")\n",
    "plt.savefig(\"node_explored_box_plot.eps\")\n",
    "print(\"Method\")\n"
   ]
  },
  {
   "cell_type": "markdown",
   "metadata": {},
   "source": [
    "## list(ax.get_xticklabels())"
   ]
  },
  {
   "cell_type": "code",
   "execution_count": 14,
   "metadata": {},
   "outputs": [
    {
     "data": {
      "text/plain": [
       "<Figure size 432x288 with 0 Axes>"
      ]
     },
     "metadata": {},
     "output_type": "display_data"
    }
   ],
   "source": [
    "plt.gcf().clear()\n",
    "plt.clf()"
   ]
  },
  {
   "cell_type": "markdown",
   "metadata": {},
   "source": [
    "# Success Count Plots"
   ]
  },
  {
   "cell_type": "code",
   "execution_count": 17,
   "metadata": {},
   "outputs": [],
   "source": [
    "sc_df = pd.DataFrame.from_dict({\"MAP\":[],\"Method\":[],\"success_count\":[]})\n",
    "for env in env_list:\n",
    "    for m in method_list:\n",
    "        c_ = sum(pd_df[(pd_df[\"Method\"]==m) & (pd_df[\"MAP\"]==env)][\"success\"].tolist())\n",
    "        sc_df.loc[len(sc_df)] = (env,m,c_)"
   ]
  },
  {
   "cell_type": "code",
   "execution_count": 32,
   "metadata": {},
   "outputs": [],
   "source": [
    "# Normalization Code\n",
    "sc_df[\"ground_success\"] = [sc_df[(sc_df[\"Method\"]==\"prm_4000\") & (sc_df[\"MAP\"]==M)][\"success_count\"].tolist()[0] for M in sc_df[\"MAP\"]]\n",
    "sc_df[\"success metric\"] = [100.0* s/g for s,g in zip(sc_df[\"success_count\"],sc_df[\"ground_success\"])]"
   ]
  },
  {
   "cell_type": "code",
   "execution_count": 31,
   "metadata": {},
   "outputs": [
    {
     "data": {
      "text/plain": [
       "0     31200.0\n",
       "1     32300.0\n",
       "2     36000.0\n",
       "3      5000.0\n",
       "4     38600.0\n",
       "5     12600.0\n",
       "6     29100.0\n",
       "7     27800.0\n",
       "8     34700.0\n",
       "9     14200.0\n",
       "10    35000.0\n",
       "11    34300.0\n",
       "12    15600.0\n",
       "13    18600.0\n",
       "14    36200.0\n",
       "15     8200.0\n",
       "16    37800.0\n",
       "17    16200.0\n",
       "Name: success metric, dtype: float64"
      ]
     },
     "execution_count": 31,
     "metadata": {},
     "output_type": "execute_result"
    }
   ],
   "source": [
    "sc_df[\"success metric\"]"
   ]
  },
  {
   "cell_type": "code",
   "execution_count": 29,
   "metadata": {},
   "outputs": [
    {
     "data": {
      "image/png": "[encoded data removed]",
      "text/plain": [
       "<Figure size 432x432 with 1 Axes>"
      ]
     },
     "metadata": {},
     "output_type": "display_data"
    }
   ],
   "source": [
    "plt.figure(figsize=(6,6))\n",
    "ax = sns.barplot(data = sc_df, y = \"success metric\", hue = \"MAP\", order=[\"prm_4000\",\"gng_top_feedback\",\"gng_top\", \"gng\", \"prm_2000\", \"prm_1000\"],  x= \"Method\")\n",
    "\n",
    "plt.subplots_adjust(bottom=0.25)\n",
    "ax.set(xlabel='', ylabel='Success Rate (%)')\n",
    "ax.set_xticklabels(\n",
    "    [\"dense PRM\",\"topological GNG\",\"no feedback\", \"standard GNG\", \"PRM-2000\", \"PRM-1000\"], \n",
    "    rotation=45, \n",
    "    horizontalalignment='right',\n",
    ")\n",
    "plt.savefig(\"success_count_plots.png\", dpi=300)"
   ]
  },
  {
   "cell_type": "code",
   "execution_count": 36,
   "metadata": {},
   "outputs": [
    {
     "data": {
      "text/plain": [
       "<Figure size 432x288 with 0 Axes>"
      ]
     },
     "metadata": {},
     "output_type": "display_data"
    }
   ],
   "source": [
    "plt.gcf().clear()\n",
    "plt.clf()"
   ]
  },
  {
   "cell_type": "markdown",
   "metadata": {},
   "source": [
    "# SPC Metric"
   ]
  },
  {
   "cell_type": "code",
   "execution_count": 37,
   "metadata": {},
   "outputs": [],
   "source": [
    "spc_df = cpy(pd_df)"
   ]
  },
  {
   "cell_type": "code",
   "execution_count": 38,
   "metadata": {},
   "outputs": [],
   "source": [
    "spc_df = pd.DataFrame.from_dict({\"MAP\":[],\"Method\":[],\"spc_metric\":[]})\n",
    "\n",
    "def calculate_spc_metric(env, method):\n",
    "    pk_file_m = method_env_to_pickle_file_map[env][method]\n",
    "    pk_file_dense = method_env_to_pickle_file_map[env][\"prm_4000\"]\n",
    "    \n",
    "    row_calculus_sum = 0\n",
    "    for i in range(len(pk_file_m[0])):\n",
    "        if pk_file_dense[0][i] and pk_file_m[0][i]:\n",
    "            row_calculus_sum += pk_file_dense[2][i] / pk_file_m[2][i] #( max(pk_file_dense[2][i],pk_file_m[2][i]) )\n",
    "            \n",
    "    return row_calculus_sum\n",
    "\n",
    "for e in env_list:\n",
    "    for m in method_list:\n",
    "        spc_metric = calculate_spc_metric(e,m)\n",
    "        spc_df.loc[len(spc_df)] = (e,m,spc_metric)"
   ]
  },
  {
   "cell_type": "code",
   "execution_count": 39,
   "metadata": {},
   "outputs": [
    {
     "data": {
      "text/html": [
       "<div>\n",
       "<style scoped>\n",
       "    .dataframe tbody tr th:only-of-type {\n",
       "        vertical-align: middle;\n",
       "    }\n",
       "\n",
       "    .dataframe tbody tr th {\n",
       "        vertical-align: top;\n",
       "    }\n",
       "\n",
       "    .dataframe thead th {\n",
       "        text-align: right;\n",
       "    }\n",
       "</style>\n",
       "<table border=\"1\" class=\"dataframe\">\n",
       "  <thead>\n",
       "    <tr style=\"text-align: right;\">\n",
       "      <th></th>\n",
       "      <th>MAP</th>\n",
       "      <th>Method</th>\n",
       "      <th>spc_metric</th>\n",
       "      <th>ground_spc_metric</th>\n",
       "      <th>SPC metric</th>\n",
       "    </tr>\n",
       "  </thead>\n",
       "  <tbody>\n",
       "    <tr>\n",
       "      <th>0</th>\n",
       "      <td>Intel</td>\n",
       "      <td>gng</td>\n",
       "      <td>319.644558</td>\n",
       "      <td>386.0</td>\n",
       "      <td>0.828095</td>\n",
       "    </tr>\n",
       "    <tr>\n",
       "      <th>1</th>\n",
       "      <td>Intel</td>\n",
       "      <td>gng_top</td>\n",
       "      <td>316.777711</td>\n",
       "      <td>386.0</td>\n",
       "      <td>0.820668</td>\n",
       "    </tr>\n",
       "    <tr>\n",
       "      <th>2</th>\n",
       "      <td>Intel</td>\n",
       "      <td>gng_top_feedback</td>\n",
       "      <td>351.107738</td>\n",
       "      <td>386.0</td>\n",
       "      <td>0.909606</td>\n",
       "    </tr>\n",
       "    <tr>\n",
       "      <th>3</th>\n",
       "      <td>Intel</td>\n",
       "      <td>prm_1000</td>\n",
       "      <td>47.775855</td>\n",
       "      <td>386.0</td>\n",
       "      <td>0.123772</td>\n",
       "    </tr>\n",
       "    <tr>\n",
       "      <th>4</th>\n",
       "      <td>Intel</td>\n",
       "      <td>prm_4000</td>\n",
       "      <td>386.000000</td>\n",
       "      <td>386.0</td>\n",
       "      <td>1.000000</td>\n",
       "    </tr>\n",
       "    <tr>\n",
       "      <th>5</th>\n",
       "      <td>Intel</td>\n",
       "      <td>prm_2000</td>\n",
       "      <td>125.214676</td>\n",
       "      <td>386.0</td>\n",
       "      <td>0.324390</td>\n",
       "    </tr>\n",
       "    <tr>\n",
       "      <th>6</th>\n",
       "      <td>Freiburg</td>\n",
       "      <td>gng</td>\n",
       "      <td>287.403857</td>\n",
       "      <td>350.0</td>\n",
       "      <td>0.821154</td>\n",
       "    </tr>\n",
       "    <tr>\n",
       "      <th>7</th>\n",
       "      <td>Freiburg</td>\n",
       "      <td>gng_top</td>\n",
       "      <td>271.341329</td>\n",
       "      <td>350.0</td>\n",
       "      <td>0.775261</td>\n",
       "    </tr>\n",
       "    <tr>\n",
       "      <th>8</th>\n",
       "      <td>Freiburg</td>\n",
       "      <td>gng_top_feedback</td>\n",
       "      <td>328.307342</td>\n",
       "      <td>350.0</td>\n",
       "      <td>0.938021</td>\n",
       "    </tr>\n",
       "    <tr>\n",
       "      <th>9</th>\n",
       "      <td>Freiburg</td>\n",
       "      <td>prm_1000</td>\n",
       "      <td>126.686790</td>\n",
       "      <td>350.0</td>\n",
       "      <td>0.361962</td>\n",
       "    </tr>\n",
       "    <tr>\n",
       "      <th>10</th>\n",
       "      <td>Freiburg</td>\n",
       "      <td>prm_4000</td>\n",
       "      <td>350.000000</td>\n",
       "      <td>350.0</td>\n",
       "      <td>1.000000</td>\n",
       "    </tr>\n",
       "    <tr>\n",
       "      <th>11</th>\n",
       "      <td>Freiburg</td>\n",
       "      <td>prm_2000</td>\n",
       "      <td>336.425594</td>\n",
       "      <td>350.0</td>\n",
       "      <td>0.961216</td>\n",
       "    </tr>\n",
       "    <tr>\n",
       "      <th>12</th>\n",
       "      <td>FHW</td>\n",
       "      <td>gng</td>\n",
       "      <td>155.912559</td>\n",
       "      <td>378.0</td>\n",
       "      <td>0.412467</td>\n",
       "    </tr>\n",
       "    <tr>\n",
       "      <th>13</th>\n",
       "      <td>FHW</td>\n",
       "      <td>gng_top</td>\n",
       "      <td>190.149629</td>\n",
       "      <td>378.0</td>\n",
       "      <td>0.503041</td>\n",
       "    </tr>\n",
       "    <tr>\n",
       "      <th>14</th>\n",
       "      <td>FHW</td>\n",
       "      <td>gng_top_feedback</td>\n",
       "      <td>360.709430</td>\n",
       "      <td>378.0</td>\n",
       "      <td>0.954258</td>\n",
       "    </tr>\n",
       "    <tr>\n",
       "      <th>15</th>\n",
       "      <td>FHW</td>\n",
       "      <td>prm_1000</td>\n",
       "      <td>72.001763</td>\n",
       "      <td>378.0</td>\n",
       "      <td>0.190481</td>\n",
       "    </tr>\n",
       "    <tr>\n",
       "      <th>16</th>\n",
       "      <td>FHW</td>\n",
       "      <td>prm_4000</td>\n",
       "      <td>378.000000</td>\n",
       "      <td>378.0</td>\n",
       "      <td>1.000000</td>\n",
       "    </tr>\n",
       "    <tr>\n",
       "      <th>17</th>\n",
       "      <td>FHW</td>\n",
       "      <td>prm_2000</td>\n",
       "      <td>141.171211</td>\n",
       "      <td>378.0</td>\n",
       "      <td>0.373469</td>\n",
       "    </tr>\n",
       "  </tbody>\n",
       "</table>\n",
       "</div>"
      ],
      "text/plain": [
       "         MAP            Method  spc_metric  ground_spc_metric  SPC metric\n",
       "0      Intel               gng  319.644558              386.0    0.828095\n",
       "1      Intel           gng_top  316.777711              386.0    0.820668\n",
       "2      Intel  gng_top_feedback  351.107738              386.0    0.909606\n",
       "3      Intel          prm_1000   47.775855              386.0    0.123772\n",
       "4      Intel          prm_4000  386.000000              386.0    1.000000\n",
       "5      Intel          prm_2000  125.214676              386.0    0.324390\n",
       "6   Freiburg               gng  287.403857              350.0    0.821154\n",
       "7   Freiburg           gng_top  271.341329              350.0    0.775261\n",
       "8   Freiburg  gng_top_feedback  328.307342              350.0    0.938021\n",
       "9   Freiburg          prm_1000  126.686790              350.0    0.361962\n",
       "10  Freiburg          prm_4000  350.000000              350.0    1.000000\n",
       "11  Freiburg          prm_2000  336.425594              350.0    0.961216\n",
       "12       FHW               gng  155.912559              378.0    0.412467\n",
       "13       FHW           gng_top  190.149629              378.0    0.503041\n",
       "14       FHW  gng_top_feedback  360.709430              378.0    0.954258\n",
       "15       FHW          prm_1000   72.001763              378.0    0.190481\n",
       "16       FHW          prm_4000  378.000000              378.0    1.000000\n",
       "17       FHW          prm_2000  141.171211              378.0    0.373469"
      ]
     },
     "execution_count": 39,
     "metadata": {},
     "output_type": "execute_result"
    }
   ],
   "source": [
    "# Normalization Code\n",
    "spc_df[\"ground_spc_metric\"] = [spc_df[(spc_df[\"Method\"]==\"prm_4000\") & (spc_df[\"MAP\"]==M)][\"spc_metric\"].tolist()[0] for M in spc_df[\"MAP\"]]\n",
    "spc_df[\"SPC metric\"] = [s/g for s,g in zip(spc_df[\"spc_metric\"],spc_df[\"ground_spc_metric\"])]    \n",
    "spc_df"
   ]
  },
  {
   "cell_type": "code",
   "execution_count": 40,
   "metadata": {},
   "outputs": [
    {
     "data": {
      "image/png": "[encoded data removed]",
      "text/plain": [
       "<Figure size 432x432 with 1 Axes>"
      ]
     },
     "metadata": {},
     "output_type": "display_data"
    }
   ],
   "source": [
    "plt.figure(figsize=(6,6))\n",
    "ax = sns.barplot(data = spc_df, y = \"SPC metric\", order=[\"prm_4000\",\"gng_top_feedback\",\"gng_top\", \"gng\", \"prm_2000\", \"prm_1000\"], hue = \"MAP\" , x= \"Method\")\n",
    "plt.subplots_adjust(bottom=0.25)\n",
    "ax.set(xlabel='', ylabel='Success-weighted Path Cost (SPC)')\n",
    "ax.set_xticklabels(\n",
    "    [\"dense PRM\",\"topological GNG\",\"no feedback\", \"standard GNG\", \"PRM-2000\", \"PRM-1000\"], \n",
    "    rotation=45, \n",
    "    horizontalalignment='right',\n",
    "\n",
    ")\n",
    "\n",
    "plt.savefig(\"spc_metric.png\", dpi=300)"
   ]
  },
  {
   "cell_type": "code",
   "execution_count": 41,
   "metadata": {},
   "outputs": [
    {
     "data": {
      "text/plain": [
       "<Figure size 432x288 with 0 Axes>"
      ]
     },
     "metadata": {},
     "output_type": "display_data"
    }
   ],
   "source": [
    "plt.gcf().clear()\n",
    "plt.clf()"
   ]
  },
  {
   "cell_type": "markdown",
   "metadata": {},
   "source": [
    "# SNE metric\n"
   ]
  },
  {
   "cell_type": "code",
   "execution_count": 42,
   "metadata": {},
   "outputs": [],
   "source": [
    "sne_df = cpy(pd_df)\n",
    "sne_df = pd.DataFrame.from_dict({\"MAP\":[],\"Method\":[],\"sne_metric\":[]})\n",
    "\n",
    "def calculate_sne_metric(env, method):\n",
    "    pk_file_m = method_env_to_pickle_file_map[env][method]\n",
    "    pk_file_dense = method_env_to_pickle_file_map[env][\"prm_4000\"]\n",
    "    \n",
    "    row_calculus_sum = 0\n",
    "    for i in range(len(pk_file_m[0])):\n",
    "        if pk_file_dense[0][i] and pk_file_m[0][i]:\n",
    "            row_calculus_sum += pk_file_dense[1][i] / (pk_file_m[1][i])#( max(pk_file_dense[2][i],pk_file_m[2][i]) )\n",
    "            \n",
    "    return row_calculus_sum\n",
    "\n",
    "for e in env_list:\n",
    "    for m in method_list:\n",
    "        sne_metric = calculate_sne_metric(e,m)\n",
    "        sne_df.loc[len(sne_df)] = (e,m,sne_metric)"
   ]
  },
  {
   "cell_type": "code",
   "execution_count": 43,
   "metadata": {},
   "outputs": [
    {
     "data": {
      "text/html": [
       "<div>\n",
       "<style scoped>\n",
       "    .dataframe tbody tr th:only-of-type {\n",
       "        vertical-align: middle;\n",
       "    }\n",
       "\n",
       "    .dataframe tbody tr th {\n",
       "        vertical-align: top;\n",
       "    }\n",
       "\n",
       "    .dataframe thead th {\n",
       "        text-align: right;\n",
       "    }\n",
       "</style>\n",
       "<table border=\"1\" class=\"dataframe\">\n",
       "  <thead>\n",
       "    <tr style=\"text-align: right;\">\n",
       "      <th></th>\n",
       "      <th>MAP</th>\n",
       "      <th>Method</th>\n",
       "      <th>sne_metric</th>\n",
       "    </tr>\n",
       "  </thead>\n",
       "  <tbody>\n",
       "    <tr>\n",
       "      <th>0</th>\n",
       "      <td>Intel</td>\n",
       "      <td>gng</td>\n",
       "      <td>1528.826430</td>\n",
       "    </tr>\n",
       "    <tr>\n",
       "      <th>1</th>\n",
       "      <td>Intel</td>\n",
       "      <td>gng_top</td>\n",
       "      <td>1545.652090</td>\n",
       "    </tr>\n",
       "    <tr>\n",
       "      <th>2</th>\n",
       "      <td>Intel</td>\n",
       "      <td>gng_top_feedback</td>\n",
       "      <td>1639.212013</td>\n",
       "    </tr>\n",
       "    <tr>\n",
       "      <th>3</th>\n",
       "      <td>Intel</td>\n",
       "      <td>prm_1000</td>\n",
       "      <td>329.256996</td>\n",
       "    </tr>\n",
       "    <tr>\n",
       "      <th>4</th>\n",
       "      <td>Intel</td>\n",
       "      <td>prm_4000</td>\n",
       "      <td>386.000000</td>\n",
       "    </tr>\n",
       "    <tr>\n",
       "      <th>5</th>\n",
       "      <td>Intel</td>\n",
       "      <td>prm_2000</td>\n",
       "      <td>349.833494</td>\n",
       "    </tr>\n",
       "    <tr>\n",
       "      <th>6</th>\n",
       "      <td>Freiburg</td>\n",
       "      <td>gng</td>\n",
       "      <td>1370.619151</td>\n",
       "    </tr>\n",
       "    <tr>\n",
       "      <th>7</th>\n",
       "      <td>Freiburg</td>\n",
       "      <td>gng_top</td>\n",
       "      <td>1405.556767</td>\n",
       "    </tr>\n",
       "    <tr>\n",
       "      <th>8</th>\n",
       "      <td>Freiburg</td>\n",
       "      <td>gng_top_feedback</td>\n",
       "      <td>1593.058009</td>\n",
       "    </tr>\n",
       "    <tr>\n",
       "      <th>9</th>\n",
       "      <td>Freiburg</td>\n",
       "      <td>prm_1000</td>\n",
       "      <td>695.481041</td>\n",
       "    </tr>\n",
       "    <tr>\n",
       "      <th>10</th>\n",
       "      <td>Freiburg</td>\n",
       "      <td>prm_4000</td>\n",
       "      <td>350.000000</td>\n",
       "    </tr>\n",
       "    <tr>\n",
       "      <th>11</th>\n",
       "      <td>Freiburg</td>\n",
       "      <td>prm_2000</td>\n",
       "      <td>648.077961</td>\n",
       "    </tr>\n",
       "    <tr>\n",
       "      <th>12</th>\n",
       "      <td>FHW</td>\n",
       "      <td>gng</td>\n",
       "      <td>943.185493</td>\n",
       "    </tr>\n",
       "    <tr>\n",
       "      <th>13</th>\n",
       "      <td>FHW</td>\n",
       "      <td>gng_top</td>\n",
       "      <td>1144.449904</td>\n",
       "    </tr>\n",
       "    <tr>\n",
       "      <th>14</th>\n",
       "      <td>FHW</td>\n",
       "      <td>gng_top_feedback</td>\n",
       "      <td>1930.856547</td>\n",
       "    </tr>\n",
       "    <tr>\n",
       "      <th>15</th>\n",
       "      <td>FHW</td>\n",
       "      <td>prm_1000</td>\n",
       "      <td>358.277762</td>\n",
       "    </tr>\n",
       "    <tr>\n",
       "      <th>16</th>\n",
       "      <td>FHW</td>\n",
       "      <td>prm_4000</td>\n",
       "      <td>378.000000</td>\n",
       "    </tr>\n",
       "    <tr>\n",
       "      <th>17</th>\n",
       "      <td>FHW</td>\n",
       "      <td>prm_2000</td>\n",
       "      <td>388.456312</td>\n",
       "    </tr>\n",
       "  </tbody>\n",
       "</table>\n",
       "</div>"
      ],
      "text/plain": [
       "         MAP            Method   sne_metric\n",
       "0      Intel               gng  1528.826430\n",
       "1      Intel           gng_top  1545.652090\n",
       "2      Intel  gng_top_feedback  1639.212013\n",
       "3      Intel          prm_1000   329.256996\n",
       "4      Intel          prm_4000   386.000000\n",
       "5      Intel          prm_2000   349.833494\n",
       "6   Freiburg               gng  1370.619151\n",
       "7   Freiburg           gng_top  1405.556767\n",
       "8   Freiburg  gng_top_feedback  1593.058009\n",
       "9   Freiburg          prm_1000   695.481041\n",
       "10  Freiburg          prm_4000   350.000000\n",
       "11  Freiburg          prm_2000   648.077961\n",
       "12       FHW               gng   943.185493\n",
       "13       FHW           gng_top  1144.449904\n",
       "14       FHW  gng_top_feedback  1930.856547\n",
       "15       FHW          prm_1000   358.277762\n",
       "16       FHW          prm_4000   378.000000\n",
       "17       FHW          prm_2000   388.456312"
      ]
     },
     "execution_count": 43,
     "metadata": {},
     "output_type": "execute_result"
    }
   ],
   "source": [
    "sne_df"
   ]
  },
  {
   "cell_type": "code",
   "execution_count": 44,
   "metadata": {},
   "outputs": [],
   "source": [
    "# normalization code\n",
    "sne_df[\"ground_sne_metric\"] = [sne_df[(sne_df[\"Method\"]==\"prm_4000\") & (sne_df[\"MAP\"]==M)][\"sne_metric\"].tolist()[0] for M in sne_df[\"MAP\"]]\n",
    "sne_df[\"SNE metric\"] = [s/g for s,g in zip(sne_df[\"sne_metric\"],sne_df[\"ground_sne_metric\"])]  "
   ]
  },
  {
   "cell_type": "code",
   "execution_count": 45,
   "metadata": {},
   "outputs": [
    {
     "data": {
      "image/png": "[encoded data removed]",
      "text/plain": [
       "<Figure size 432x432 with 1 Axes>"
      ]
     },
     "metadata": {},
     "output_type": "display_data"
    }
   ],
   "source": [
    "plt.figure(figsize=(6,6))\n",
    "ax = sns.barplot(data = sne_df, y = \"SNE metric\", order=[\"prm_4000\",\"gng_top_feedback\",\"gng_top\", \"gng\", \"prm_2000\", \"prm_1000\"], hue = \"MAP\" ,  x= \"Method\")\n",
    "# plt.show()\n",
    "plt.subplots_adjust(bottom=0.25)\n",
    "ax.set(xlabel='', ylabel='Success-weighted Vertices Explored (SVE)')\n",
    "ax.set_xticklabels(\n",
    "    [\"dense PRM\",\"topological GNG\",\"no feedback\", \"standard GNG\", \"PRM-2000\", \"PRM-1000\"], \n",
    "    rotation=45, \n",
    "    horizontalalignment='right',\n",
    ")\n",
    "plt.savefig(\"sve_metric.png\", dpi=300)"
   ]
  },
  {
   "cell_type": "code",
   "execution_count": 46,
   "metadata": {},
   "outputs": [
    {
     "data": {
      "text/html": [
       "<div>\n",
       "<style scoped>\n",
       "    .dataframe tbody tr th:only-of-type {\n",
       "        vertical-align: middle;\n",
       "    }\n",
       "\n",
       "    .dataframe tbody tr th {\n",
       "        vertical-align: top;\n",
       "    }\n",
       "\n",
       "    .dataframe thead th {\n",
       "        text-align: right;\n",
       "    }\n",
       "</style>\n",
       "<table border=\"1\" class=\"dataframe\">\n",
       "  <thead>\n",
       "    <tr style=\"text-align: right;\">\n",
       "      <th></th>\n",
       "      <th>MAP</th>\n",
       "      <th>Method</th>\n",
       "      <th>sne_metric</th>\n",
       "      <th>ground_sne_metric</th>\n",
       "      <th>SNE metric</th>\n",
       "    </tr>\n",
       "  </thead>\n",
       "  <tbody>\n",
       "    <tr>\n",
       "      <th>0</th>\n",
       "      <td>Intel</td>\n",
       "      <td>gng</td>\n",
       "      <td>1528.826430</td>\n",
       "      <td>386.0</td>\n",
       "      <td>3.960690</td>\n",
       "    </tr>\n",
       "    <tr>\n",
       "      <th>1</th>\n",
       "      <td>Intel</td>\n",
       "      <td>gng_top</td>\n",
       "      <td>1545.652090</td>\n",
       "      <td>386.0</td>\n",
       "      <td>4.004280</td>\n",
       "    </tr>\n",
       "    <tr>\n",
       "      <th>2</th>\n",
       "      <td>Intel</td>\n",
       "      <td>gng_top_feedback</td>\n",
       "      <td>1639.212013</td>\n",
       "      <td>386.0</td>\n",
       "      <td>4.246663</td>\n",
       "    </tr>\n",
       "    <tr>\n",
       "      <th>3</th>\n",
       "      <td>Intel</td>\n",
       "      <td>prm_1000</td>\n",
       "      <td>329.256996</td>\n",
       "      <td>386.0</td>\n",
       "      <td>0.852997</td>\n",
       "    </tr>\n",
       "    <tr>\n",
       "      <th>4</th>\n",
       "      <td>Intel</td>\n",
       "      <td>prm_4000</td>\n",
       "      <td>386.000000</td>\n",
       "      <td>386.0</td>\n",
       "      <td>1.000000</td>\n",
       "    </tr>\n",
       "    <tr>\n",
       "      <th>5</th>\n",
       "      <td>Intel</td>\n",
       "      <td>prm_2000</td>\n",
       "      <td>349.833494</td>\n",
       "      <td>386.0</td>\n",
       "      <td>0.906304</td>\n",
       "    </tr>\n",
       "    <tr>\n",
       "      <th>6</th>\n",
       "      <td>Freiburg</td>\n",
       "      <td>gng</td>\n",
       "      <td>1370.619151</td>\n",
       "      <td>350.0</td>\n",
       "      <td>3.916055</td>\n",
       "    </tr>\n",
       "    <tr>\n",
       "      <th>7</th>\n",
       "      <td>Freiburg</td>\n",
       "      <td>gng_top</td>\n",
       "      <td>1405.556767</td>\n",
       "      <td>350.0</td>\n",
       "      <td>4.015876</td>\n",
       "    </tr>\n",
       "    <tr>\n",
       "      <th>8</th>\n",
       "      <td>Freiburg</td>\n",
       "      <td>gng_top_feedback</td>\n",
       "      <td>1593.058009</td>\n",
       "      <td>350.0</td>\n",
       "      <td>4.551594</td>\n",
       "    </tr>\n",
       "    <tr>\n",
       "      <th>9</th>\n",
       "      <td>Freiburg</td>\n",
       "      <td>prm_1000</td>\n",
       "      <td>695.481041</td>\n",
       "      <td>350.0</td>\n",
       "      <td>1.987089</td>\n",
       "    </tr>\n",
       "    <tr>\n",
       "      <th>10</th>\n",
       "      <td>Freiburg</td>\n",
       "      <td>prm_4000</td>\n",
       "      <td>350.000000</td>\n",
       "      <td>350.0</td>\n",
       "      <td>1.000000</td>\n",
       "    </tr>\n",
       "    <tr>\n",
       "      <th>11</th>\n",
       "      <td>Freiburg</td>\n",
       "      <td>prm_2000</td>\n",
       "      <td>648.077961</td>\n",
       "      <td>350.0</td>\n",
       "      <td>1.851651</td>\n",
       "    </tr>\n",
       "    <tr>\n",
       "      <th>12</th>\n",
       "      <td>FHW</td>\n",
       "      <td>gng</td>\n",
       "      <td>943.185493</td>\n",
       "      <td>378.0</td>\n",
       "      <td>2.495200</td>\n",
       "    </tr>\n",
       "    <tr>\n",
       "      <th>13</th>\n",
       "      <td>FHW</td>\n",
       "      <td>gng_top</td>\n",
       "      <td>1144.449904</td>\n",
       "      <td>378.0</td>\n",
       "      <td>3.027645</td>\n",
       "    </tr>\n",
       "    <tr>\n",
       "      <th>14</th>\n",
       "      <td>FHW</td>\n",
       "      <td>gng_top_feedback</td>\n",
       "      <td>1930.856547</td>\n",
       "      <td>378.0</td>\n",
       "      <td>5.108086</td>\n",
       "    </tr>\n",
       "    <tr>\n",
       "      <th>15</th>\n",
       "      <td>FHW</td>\n",
       "      <td>prm_1000</td>\n",
       "      <td>358.277762</td>\n",
       "      <td>378.0</td>\n",
       "      <td>0.947825</td>\n",
       "    </tr>\n",
       "    <tr>\n",
       "      <th>16</th>\n",
       "      <td>FHW</td>\n",
       "      <td>prm_4000</td>\n",
       "      <td>378.000000</td>\n",
       "      <td>378.0</td>\n",
       "      <td>1.000000</td>\n",
       "    </tr>\n",
       "    <tr>\n",
       "      <th>17</th>\n",
       "      <td>FHW</td>\n",
       "      <td>prm_2000</td>\n",
       "      <td>388.456312</td>\n",
       "      <td>378.0</td>\n",
       "      <td>1.027662</td>\n",
       "    </tr>\n",
       "  </tbody>\n",
       "</table>\n",
       "</div>"
      ],
      "text/plain": [
       "         MAP            Method   sne_metric  ground_sne_metric  SNE metric\n",
       "0      Intel               gng  1528.826430              386.0    3.960690\n",
       "1      Intel           gng_top  1545.652090              386.0    4.004280\n",
       "2      Intel  gng_top_feedback  1639.212013              386.0    4.246663\n",
       "3      Intel          prm_1000   329.256996              386.0    0.852997\n",
       "4      Intel          prm_4000   386.000000              386.0    1.000000\n",
       "5      Intel          prm_2000   349.833494              386.0    0.906304\n",
       "6   Freiburg               gng  1370.619151              350.0    3.916055\n",
       "7   Freiburg           gng_top  1405.556767              350.0    4.015876\n",
       "8   Freiburg  gng_top_feedback  1593.058009              350.0    4.551594\n",
       "9   Freiburg          prm_1000   695.481041              350.0    1.987089\n",
       "10  Freiburg          prm_4000   350.000000              350.0    1.000000\n",
       "11  Freiburg          prm_2000   648.077961              350.0    1.851651\n",
       "12       FHW               gng   943.185493              378.0    2.495200\n",
       "13       FHW           gng_top  1144.449904              378.0    3.027645\n",
       "14       FHW  gng_top_feedback  1930.856547              378.0    5.108086\n",
       "15       FHW          prm_1000   358.277762              378.0    0.947825\n",
       "16       FHW          prm_4000   378.000000              378.0    1.000000\n",
       "17       FHW          prm_2000   388.456312              378.0    1.027662"
      ]
     },
     "execution_count": 46,
     "metadata": {},
     "output_type": "execute_result"
    }
   ],
   "source": [
    "sne_df"
   ]
  },
  {
   "cell_type": "code",
   "execution_count": null,
   "metadata": {},
   "outputs": [],
   "source": []
  },
  {
   "cell_type": "code",
   "execution_count": null,
   "metadata": {},
   "outputs": [],
   "source": []
  }
 ],
 "metadata": {
  "kernelspec": {
   "display_name": "Python 3",
   "language": "python",
   "name": "python3"
  },
  "language_info": {
   "codemirror_mode": {
    "name": "ipython",
    "version": 3
   },
   "file_extension": ".py",
   "mimetype": "text/x-python",
   "name": "python",
   "nbconvert_exporter": "python",
   "pygments_lexer": "ipython3",
   "version": "3.6.5"
  }
 },
 "nbformat": 4,
 "nbformat_minor": 4
}
