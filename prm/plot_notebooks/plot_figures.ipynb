{
 "cells": [
  {
   "cell_type": "code",
   "execution_count": 2,
   "metadata": {},
   "outputs": [],
   "source": [
    "# %matplotlib inline"
   ]
  },
  {
   "cell_type": "code",
   "execution_count": 2,
   "metadata": {},
   "outputs": [
    {
     "name": "stdout",
     "output_type": "stream",
     "text": [
      "[NbConvertApp] Converting notebook plot_figures.ipynb to script\n",
      "[NbConvertApp] Writing 5361 bytes to plot_figures.py\n"
     ]
    }
   ],
   "source": [
    "! jupyter nbconvert --to script plot_figures.ipynb"
   ]
  },
  {
   "cell_type": "code",
   "execution_count": 3,
   "metadata": {},
   "outputs": [],
   "source": [
    "import pickle as pk \n",
    "import pandas as pd\n",
    "import os \n",
    "import seaborn as sns\n",
    "import matplotlib.pyplot as plt\n",
    "from copy import deepcopy as cpy "
   ]
  },
  {
   "cell_type": "code",
   "execution_count": 4,
   "metadata": {},
   "outputs": [],
   "source": [
    "# os.listdir(\"../\")\n",
    "# for m in method_list:\n",
    "#     file_name = \"../\"+method_to_save_dir_map[m]+method_to_save_file_map[m]+\".pickle\"\n",
    "#     new_file_name = file_name.replace(\"freiburg\",\"intel\")\n",
    "#     os.system(\"cp \"+file_name+\" \"+new_file_name)"
   ]
  },
  {
   "cell_type": "code",
   "execution_count": 5,
   "metadata": {},
   "outputs": [
    {
     "name": "stdout",
     "output_type": "stream",
     "text": [
      "../gng_output/intel_gng1208_200.pickle\n",
      "../gng_top_output/intel_gngtop_1208_200.pickle\n",
      "../gng_top_feedback_output/intel_gngtop_feedback_1208_200.pickle\n",
      "../prm_output/intel_prm1208.pickle\n",
      "../prm_dense_output/intel_prmdense_2500.pickle\n",
      "../prm_dense_hilbert_output/intel_prmdense_hilbert4000.pickle\n",
      "../gng_output/freiburg_gng1208_200.pickle\n",
      "../gng_top_output/freiburg_gngtop_1208_200.pickle\n",
      "../gng_top_feedback_output/freiburg_gngtop_feedback_1208_200.pickle\n",
      "../prm_output/freiburg_prm1208.pickle\n",
      "../prm_dense_output/freiburg_prmdense_2500.pickle\n",
      "../prm_dense_hilbert_output/freiburg_prmdense_hilbert4000.pickle\n"
     ]
    }
   ],
   "source": [
    "env_list = [\"intel\", \"freiburg\"] # add fhw later \n",
    "method_list = [\"gng\", \"gng_top\", \"gng_top_feedback\", \"prm\", \"prm_dense\", \"prm_dense_hilbert\"]\n",
    "\n",
    "# roadmap_types = [\"gng_top\", \"gng\"]\n",
    "\n",
    "method_env_to_pickle_file_map = {}\n",
    "\n",
    "def get_file_path(env:str,method:str)->str:\n",
    "    method_dir = {\"gng\": \"gng_output/\", \"gng_top\": \"gng_top_output/\", \"gng_top_feedback\": \"gng_top_feedback_output/\", \"prm\": \"prm_output/\",\n",
    "                     \"prm_dense\": \"prm_dense_output/\", \"prm_dense_hilbert\": \"prm_dense_hilbert_output/\"}\n",
    "\n",
    "    method_naming = {\"gng\": \"gng1208_200\", \"gng_top\": \"gngtop_1208_200\", \"gng_top_feedback\": \"gngtop_feedback_1208_200\",\n",
    "                               \"prm\": \"prm1208\", \"prm_dense\": \"prmdense_2500\", \"prm_dense_hilbert\": \"prmdense_hilbert4000\"}\n",
    "    \n",
    "    file_path = f\"../{method_dir[method]}{env}_{method_naming[method]}.pickle\"\n",
    "    print(file_path)\n",
    "    return file_path\n",
    "\n",
    "for e in env_list:\n",
    "    method_env_to_pickle_file_map[e]={}\n",
    "    for m in method_list:\n",
    "        method_env_to_pickle_file_map[e][m] = pk.load(open(get_file_path(e,m), \"rb\"))"
   ]
  },
  {
   "cell_type": "code",
   "execution_count": 22,
   "metadata": {},
   "outputs": [],
   "source": [
    "pd_df = pd.DataFrame.from_dict({\"Row_id\":[],\"all_method_success\":[],\"MAP\":[],\"Method\":[],\"success\":[], \"node_explored\":[], \"path_cost\":[]})"
   ]
  },
  {
   "cell_type": "code",
   "execution_count": 23,
   "metadata": {},
   "outputs": [],
   "source": [
    "# method_env_to_pickle_file_map"
   ]
  },
  {
   "cell_type": "code",
   "execution_count": 24,
   "metadata": {},
   "outputs": [],
   "source": [
    "def check_if_need_plotting(i,env):\n",
    "    method_list = [\"gng\", \"gng_top\", \"gng_top_feedback\", \"prm_dense\", \"prm_dense_hilbert\"]\n",
    "    bool_list= [method_env_to_pickle_file_map[env][m][0][i] for m in method_list]\n",
    "    return sum(bool_list)==len(bool_list)\n",
    "\n",
    "for env in env_list:\n",
    "    for m in method_list:\n",
    "        for i,data in enumerate(zip(*method_env_to_pickle_file_map[env][m])):\n",
    "            s, n, p = data\n",
    "            pd_df.loc[len(pd_df)] = (i,check_if_need_plotting(i,env),env,m,s,n if n is not None else \"NA\",p if p is not None else \"NA\")\n",
    "#             pd_df.loc[len(pd_df)] = (i,check_if_need_plotting(i),\"Dummy\",m,s,n,p)        "
   ]
  },
  {
   "cell_type": "code",
   "execution_count": 25,
   "metadata": {},
   "outputs": [
    {
     "data": {
      "text/html": [
       "<div>\n",
       "<style scoped>\n",
       "    .dataframe tbody tr th:only-of-type {\n",
       "        vertical-align: middle;\n",
       "    }\n",
       "\n",
       "    .dataframe tbody tr th {\n",
       "        vertical-align: top;\n",
       "    }\n",
       "\n",
       "    .dataframe thead th {\n",
       "        text-align: right;\n",
       "    }\n",
       "</style>\n",
       "<table border=\"1\" class=\"dataframe\">\n",
       "  <thead>\n",
       "    <tr style=\"text-align: right;\">\n",
       "      <th></th>\n",
       "      <th>Row_id</th>\n",
       "      <th>all_method_success</th>\n",
       "      <th>MAP</th>\n",
       "      <th>Method</th>\n",
       "      <th>success</th>\n",
       "      <th>node_explored</th>\n",
       "      <th>path_cost</th>\n",
       "    </tr>\n",
       "  </thead>\n",
       "  <tbody>\n",
       "    <tr>\n",
       "      <th>0</th>\n",
       "      <td>0.0</td>\n",
       "      <td>0.0</td>\n",
       "      <td>intel</td>\n",
       "      <td>gng</td>\n",
       "      <td>1.0</td>\n",
       "      <td>312</td>\n",
       "      <td>15.8515</td>\n",
       "    </tr>\n",
       "    <tr>\n",
       "      <th>1</th>\n",
       "      <td>1.0</td>\n",
       "      <td>1.0</td>\n",
       "      <td>intel</td>\n",
       "      <td>gng</td>\n",
       "      <td>1.0</td>\n",
       "      <td>32</td>\n",
       "      <td>2.97691</td>\n",
       "    </tr>\n",
       "    <tr>\n",
       "      <th>2</th>\n",
       "      <td>2.0</td>\n",
       "      <td>0.0</td>\n",
       "      <td>intel</td>\n",
       "      <td>gng</td>\n",
       "      <td>0.0</td>\n",
       "      <td>NA</td>\n",
       "      <td>NA</td>\n",
       "    </tr>\n",
       "    <tr>\n",
       "      <th>3</th>\n",
       "      <td>3.0</td>\n",
       "      <td>0.0</td>\n",
       "      <td>intel</td>\n",
       "      <td>gng</td>\n",
       "      <td>1.0</td>\n",
       "      <td>538</td>\n",
       "      <td>27.3121</td>\n",
       "    </tr>\n",
       "    <tr>\n",
       "      <th>4</th>\n",
       "      <td>4.0</td>\n",
       "      <td>0.0</td>\n",
       "      <td>intel</td>\n",
       "      <td>gng</td>\n",
       "      <td>0.0</td>\n",
       "      <td>NA</td>\n",
       "      <td>NA</td>\n",
       "    </tr>\n",
       "  </tbody>\n",
       "</table>\n",
       "</div>"
      ],
      "text/plain": [
       "   Row_id  all_method_success    MAP Method  success node_explored path_cost\n",
       "0     0.0                 0.0  intel    gng      1.0           312   15.8515\n",
       "1     1.0                 1.0  intel    gng      1.0            32   2.97691\n",
       "2     2.0                 0.0  intel    gng      0.0            NA        NA\n",
       "3     3.0                 0.0  intel    gng      1.0           538   27.3121\n",
       "4     4.0                 0.0  intel    gng      0.0            NA        NA"
      ]
     },
     "execution_count": 25,
     "metadata": {},
     "output_type": "execute_result"
    }
   ],
   "source": [
    "pd_df.head()"
   ]
  },
  {
   "cell_type": "code",
   "execution_count": 29,
   "metadata": {},
   "outputs": [],
   "source": [
    "filtered_method_list = [\"gng\", \"gng_top\", \"gng_top_feedback\", \"prm_dense\", \"prm_dense_hilbert\"]"
   ]
  },
  {
   "cell_type": "code",
   "execution_count": 30,
   "metadata": {},
   "outputs": [
    {
     "data": {
      "image/png": "[encoded data removed]",
      "text/plain": [
       "<Figure size 432x288 with 1 Axes>"
      ]
     },
     "metadata": {},
     "output_type": "display_data"
    }
   ],
   "source": [
    "ax = sns.barplot(data = pd_df[(pd_df[\"all_method_success\"]==1) & \n",
    "                              (pd_df[\"Method\"].isin(filtered_method_list))],\n",
    "                y = \"node_explored\",hue = \"MAP\" ,  x= \"Method\")\n",
    "plt.savefig(\"node_explored_bar_plot.eps\")"
   ]
  },
  {
   "cell_type": "code",
   "execution_count": 60,
   "metadata": {},
   "outputs": [
    {
     "data": {
      "image/png": "[encoded data removed]",
      "text/plain": [
       "<Figure size 432x288 with 1 Axes>"
      ]
     },
     "metadata": {},
     "output_type": "display_data"
    }
   ],
   "source": [
    "plot_df =cpy( pd_df[(pd_df[\"all_method_success\"]==1) & \n",
    "                              (pd_df[\"Method\"].isin(filtered_method_list))])\n",
    "plot_df[\"node_explored\"] = pd.to_numeric(plot_df[\"node_explored\"])\n",
    "\n",
    "ax = sns.boxplot(data =plot_df,\n",
    "                y = \"node_explored\",hue = \"MAP\" ,  x= \"Method\")\n",
    "ax.set_xticklabels(\n",
    "    ax.get_xticklabels(), \n",
    "    rotation=45, \n",
    "    horizontalalignment='right',\n",
    "#     fontweight='light',\n",
    "#     fontsize='x-large'\n",
    ")\n",
    "plt.savefig(\"node_explored_box_plot.eps\")"
   ]
  },
  {
   "cell_type": "markdown",
   "metadata": {},
   "source": [
    "# Success Count Plots"
   ]
  },
  {
   "cell_type": "code",
   "execution_count": 79,
   "metadata": {},
   "outputs": [],
   "source": [
    "sc_df = pd.DataFrame.from_dict({\"MAP\":[],\"Method\":[],\"success_count\":[]})\n",
    "for env in env_list:\n",
    "    for m in method_list:\n",
    "        c_ = sum(pd_df[(pd_df[\"Method\"]==m) & (pd_df[\"MAP\"]==env)][\"success\"].tolist())\n",
    "        sc_df.loc[len(sc_df)] = (env,m,c_)"
   ]
  },
  {
   "cell_type": "code",
   "execution_count": 80,
   "metadata": {},
   "outputs": [],
   "source": [
    "# Normalization Code\n",
    "sc_df[\"ground_success\"] = [sc_df[(sc_df[\"Method\"]==\"prm_dense\") & (sc_df[\"MAP\"]==M)][\"success_count\"].tolist()[0] for M in sc_df[\"MAP\"]]\n",
    "sc_df[\"success metric\"] = [s/g for s,g in zip(sc_df[\"success_count\"],sc_df[\"ground_success\"])]"
   ]
  },
  {
   "cell_type": "code",
   "execution_count": 88,
   "metadata": {},
   "outputs": [
    {
     "data": {
      "image/png": "[encoded data removed]",
      "text/plain": [
       "<Figure size 432x288 with 1 Axes>"
      ]
     },
     "metadata": {},
     "output_type": "display_data"
    }
   ],
   "source": [
    "ax = sns.barplot(data = sc_df, y = \"success metric\",hue = \"MAP\" ,  x= \"Method\")\n",
    "\n",
    "ax.set_xticklabels(\n",
    "    ax.get_xticklabels(), \n",
    "    rotation=45, \n",
    "    horizontalalignment='right',\n",
    ")\n",
    "plt.savefig(\"success_count_plots.eps\")"
   ]
  },
  {
   "cell_type": "code",
   "execution_count": null,
   "metadata": {},
   "outputs": [],
   "source": []
  },
  {
   "cell_type": "markdown",
   "metadata": {},
   "source": [
    "# SPC Metric"
   ]
  },
  {
   "cell_type": "code",
   "execution_count": 83,
   "metadata": {},
   "outputs": [],
   "source": [
    "spc_df = cpy(pd_df)"
   ]
  },
  {
   "cell_type": "code",
   "execution_count": 84,
   "metadata": {},
   "outputs": [],
   "source": [
    "spc_df = pd.DataFrame.from_dict({\"MAP\":[],\"Method\":[],\"spc_metric\":[]})\n",
    "\n",
    "def calculate_spc_metric(env, method):\n",
    "    pk_file_m = method_env_to_pickle_file_map[env][method]\n",
    "    pk_file_dense = method_env_to_pickle_file_map[env][\"prm_dense\"]\n",
    "    \n",
    "    row_calculus_sum = 0\n",
    "    for i in range(len(pk_file_m[0])):\n",
    "        if pk_file_dense[0][i] and pk_file_m[0][i]:\n",
    "            row_calculus_sum += pk_file_dense[2][i] / ( max(pk_file_dense[2][i],pk_file_m[2][i]) )\n",
    "            \n",
    "    return row_calculus_sum\n",
    "\n",
    "for e in env_list:\n",
    "    for m in method_list:\n",
    "        spc_metric = calculate_spc_metric(e,m)\n",
    "        spc_df.loc[len(spc_df)] = (e,m,spc_metric)\n",
    "    "
   ]
  },
  {
   "cell_type": "code",
   "execution_count": 85,
   "metadata": {},
   "outputs": [
    {
     "data": {
      "text/html": [
       "<div>\n",
       "<style scoped>\n",
       "    .dataframe tbody tr th:only-of-type {\n",
       "        vertical-align: middle;\n",
       "    }\n",
       "\n",
       "    .dataframe tbody tr th {\n",
       "        vertical-align: top;\n",
       "    }\n",
       "\n",
       "    .dataframe thead th {\n",
       "        text-align: right;\n",
       "    }\n",
       "</style>\n",
       "<table border=\"1\" class=\"dataframe\">\n",
       "  <thead>\n",
       "    <tr style=\"text-align: right;\">\n",
       "      <th></th>\n",
       "      <th>MAP</th>\n",
       "      <th>Method</th>\n",
       "      <th>spc_metric</th>\n",
       "      <th>ground_spc_metric</th>\n",
       "      <th>SPC metric</th>\n",
       "    </tr>\n",
       "  </thead>\n",
       "  <tbody>\n",
       "    <tr>\n",
       "      <th>0</th>\n",
       "      <td>intel</td>\n",
       "      <td>gng</td>\n",
       "      <td>302.713286</td>\n",
       "      <td>386.0</td>\n",
       "      <td>0.784231</td>\n",
       "    </tr>\n",
       "    <tr>\n",
       "      <th>1</th>\n",
       "      <td>intel</td>\n",
       "      <td>gng_top</td>\n",
       "      <td>309.612216</td>\n",
       "      <td>386.0</td>\n",
       "      <td>0.802104</td>\n",
       "    </tr>\n",
       "    <tr>\n",
       "      <th>2</th>\n",
       "      <td>intel</td>\n",
       "      <td>gng_top_feedback</td>\n",
       "      <td>344.068636</td>\n",
       "      <td>386.0</td>\n",
       "      <td>0.891370</td>\n",
       "    </tr>\n",
       "    <tr>\n",
       "      <th>3</th>\n",
       "      <td>intel</td>\n",
       "      <td>prm</td>\n",
       "      <td>43.511558</td>\n",
       "      <td>386.0</td>\n",
       "      <td>0.112724</td>\n",
       "    </tr>\n",
       "    <tr>\n",
       "      <th>4</th>\n",
       "      <td>intel</td>\n",
       "      <td>prm_dense</td>\n",
       "      <td>386.000000</td>\n",
       "      <td>386.0</td>\n",
       "      <td>1.000000</td>\n",
       "    </tr>\n",
       "    <tr>\n",
       "      <th>5</th>\n",
       "      <td>intel</td>\n",
       "      <td>prm_dense_hilbert</td>\n",
       "      <td>112.724515</td>\n",
       "      <td>386.0</td>\n",
       "      <td>0.292032</td>\n",
       "    </tr>\n",
       "    <tr>\n",
       "      <th>6</th>\n",
       "      <td>freiburg</td>\n",
       "      <td>gng</td>\n",
       "      <td>302.713286</td>\n",
       "      <td>386.0</td>\n",
       "      <td>0.784231</td>\n",
       "    </tr>\n",
       "    <tr>\n",
       "      <th>7</th>\n",
       "      <td>freiburg</td>\n",
       "      <td>gng_top</td>\n",
       "      <td>309.612216</td>\n",
       "      <td>386.0</td>\n",
       "      <td>0.802104</td>\n",
       "    </tr>\n",
       "    <tr>\n",
       "      <th>8</th>\n",
       "      <td>freiburg</td>\n",
       "      <td>gng_top_feedback</td>\n",
       "      <td>344.068636</td>\n",
       "      <td>386.0</td>\n",
       "      <td>0.891370</td>\n",
       "    </tr>\n",
       "    <tr>\n",
       "      <th>9</th>\n",
       "      <td>freiburg</td>\n",
       "      <td>prm</td>\n",
       "      <td>43.511558</td>\n",
       "      <td>386.0</td>\n",
       "      <td>0.112724</td>\n",
       "    </tr>\n",
       "    <tr>\n",
       "      <th>10</th>\n",
       "      <td>freiburg</td>\n",
       "      <td>prm_dense</td>\n",
       "      <td>386.000000</td>\n",
       "      <td>386.0</td>\n",
       "      <td>1.000000</td>\n",
       "    </tr>\n",
       "    <tr>\n",
       "      <th>11</th>\n",
       "      <td>freiburg</td>\n",
       "      <td>prm_dense_hilbert</td>\n",
       "      <td>112.724515</td>\n",
       "      <td>386.0</td>\n",
       "      <td>0.292032</td>\n",
       "    </tr>\n",
       "  </tbody>\n",
       "</table>\n",
       "</div>"
      ],
      "text/plain": [
       "         MAP             Method  spc_metric  ground_spc_metric  SPC metric\n",
       "0      intel                gng  302.713286              386.0    0.784231\n",
       "1      intel            gng_top  309.612216              386.0    0.802104\n",
       "2      intel   gng_top_feedback  344.068636              386.0    0.891370\n",
       "3      intel                prm   43.511558              386.0    0.112724\n",
       "4      intel          prm_dense  386.000000              386.0    1.000000\n",
       "5      intel  prm_dense_hilbert  112.724515              386.0    0.292032\n",
       "6   freiburg                gng  302.713286              386.0    0.784231\n",
       "7   freiburg            gng_top  309.612216              386.0    0.802104\n",
       "8   freiburg   gng_top_feedback  344.068636              386.0    0.891370\n",
       "9   freiburg                prm   43.511558              386.0    0.112724\n",
       "10  freiburg          prm_dense  386.000000              386.0    1.000000\n",
       "11  freiburg  prm_dense_hilbert  112.724515              386.0    0.292032"
      ]
     },
     "execution_count": 85,
     "metadata": {},
     "output_type": "execute_result"
    }
   ],
   "source": [
    "# Normalization Code\n",
    "spc_df[\"ground_spc_metric\"] = [spc_df[(spc_df[\"Method\"]==\"prm_dense\") & (spc_df[\"MAP\"]==M)][\"spc_metric\"].tolist()[0] for M in spc_df[\"MAP\"]]\n",
    "spc_df[\"SPC metric\"] = [s/g for s,g in zip(spc_df[\"spc_metric\"],spc_df[\"ground_spc_metric\"])]    \n",
    "spc_df"
   ]
  },
  {
   "cell_type": "code",
   "execution_count": 87,
   "metadata": {},
   "outputs": [
    {
     "data": {
      "image/png": "[encoded data removed]",
      "text/plain": [
       "<Figure size 432x288 with 1 Axes>"
      ]
     },
     "metadata": {},
     "output_type": "display_data"
    }
   ],
   "source": [
    "ax = sns.barplot(data = spc_df, y = \"SPC metric\", hue = \"MAP\" ,  x= \"Method\")\n",
    "# plt.show()\n",
    "ax.set_xticklabels(\n",
    "    ax.get_xticklabels(), \n",
    "    rotation=45, \n",
    "    horizontalalignment='right',\n",
    ")\n",
    "plt.savefig(\"spc_metric.eps\")"
   ]
  },
  {
   "cell_type": "code",
   "execution_count": null,
   "metadata": {},
   "outputs": [],
   "source": []
  }
 ],
 "metadata": {
  "kernelspec": {
   "display_name": "Python 3",
   "language": "python",
   "name": "python3"
  },
  "language_info": {
   "codemirror_mode": {
    "name": "ipython",
    "version": 3
   },
   "file_extension": ".py",
   "mimetype": "text/x-python",
   "name": "python",
   "nbconvert_exporter": "python",
   "pygments_lexer": "ipython3",
   "version": "3.6.5"
  }
 },
 "nbformat": 4,
 "nbformat_minor": 4
}
