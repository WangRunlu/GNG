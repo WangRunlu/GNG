{
 "cells": [
  {
   "cell_type": "code",
   "execution_count": 1,
   "metadata": {},
   "outputs": [],
   "source": [
    "# %matplotlib inline"
   ]
  },
  {
   "cell_type": "code",
   "execution_count": 2,
   "metadata": {},
   "outputs": [
    {
     "name": "stdout",
     "output_type": "stream",
     "text": [
      "[NbConvertApp] Converting notebook post_plot_figures.ipynb to script\n",
      "[NbConvertApp] Writing 8510 bytes to post_plot_figures.py\n"
     ]
    }
   ],
   "source": [
    "! jupyter nbconvert --to script post_plot_figures.ipynb"
   ]
  },
  {
   "cell_type": "code",
   "execution_count": 3,
   "metadata": {},
   "outputs": [],
   "source": [
    "import pickle as pk \n",
    "import pandas as pd\n",
    "import os \n",
    "import seaborn as sns\n",
    "import matplotlib.pyplot as plt\n",
    "from copy import deepcopy as cpy "
   ]
  },
  {
   "cell_type": "code",
   "execution_count": 4,
   "metadata": {},
   "outputs": [],
   "source": [
    "# os.listdir(\"../\")\n",
    "# for m in method_list:\n",
    "#     file_name = \"../\"+method_to_save_dir_map[m]+method_to_save_file_map[m]+\".pickle\"\n",
    "#     new_file_name = file_name.replace(\"freiburg\",\"intel\")\n",
    "#     os.system(\"cp \"+file_name+\" \"+new_file_name)"
   ]
  },
  {
   "cell_type": "code",
   "execution_count": 5,
   "metadata": {},
   "outputs": [
    {
     "name": "stdout",
     "output_type": "stream",
     "text": [
      "../gng_output/intel_postgng1208_200.pickle\n",
      "../gng_top_output/intel_postgngtop_1208_200.pickle\n",
      "../gng_top_feedback_output/intel_postgngtop_feedback_1208_200.pickle\n",
      "../prm_output/intel_postprm1208.pickle\n",
      "../prm_dense_output/intel_postprmdense_2500.pickle\n",
      "../prm_dense_hilbert_output/intel_postprmdense_hilbert4000.pickle\n",
      "../prm_sparse_output/intel_postprmsparse.pickle\n",
      "../gng_output/freiburg_postgng1208_200.pickle\n",
      "../gng_top_output/freiburg_postgngtop_1208_200.pickle\n",
      "../gng_top_feedback_output/freiburg_postgngtop_feedback_1208_200.pickle\n",
      "../prm_output/freiburg_postprm1208.pickle\n",
      "../prm_dense_output/freiburg_postprmdense_2500.pickle\n",
      "../prm_dense_hilbert_output/freiburg_postprmdense_hilbert4000.pickle\n",
      "../prm_sparse_output/freiburg_postprmsparse.pickle\n",
      "../gng_output/fhw_postgng1208_200.pickle\n",
      "../gng_top_output/fhw_postgngtop_1208_200.pickle\n",
      "../gng_top_feedback_output/fhw_postgngtop_feedback_1208_200.pickle\n",
      "../prm_output/fhw_postprm1208.pickle\n",
      "../prm_dense_output/fhw_postprmdense_2500.pickle\n",
      "../prm_dense_hilbert_output/fhw_postprmdense_hilbert4000.pickle\n",
      "../prm_sparse_output/fhw_postprmsparse.pickle\n"
     ]
    }
   ],
   "source": [
    "env_list = [\"Intel\", \"Freiburg\", \"FHW\"] # add fhw later \n",
    "method_list = [\"gng\", \"gng_top\", \"gng_top_feedback\", \"prm_1000\", \"prm_4000\", \"prm_2000\", \"prm_500\"]\n",
    "\n",
    "# roadmap_types = [\"gng_top\", \"gng\"]\n",
    "\n",
    "method_env_to_pickle_file_map = {}\n",
    "\n",
    "def get_file_path(env:str,method:str)->str:\n",
    "    map_naming = {\"Intel\": \"intel\", \"Freiburg\": \"freiburg\", \"FHW\":\"fhw\"}\n",
    "    method_dir = {\"gng\": \"gng_output/\", \"gng_top\": \"gng_top_output/\", \"gng_top_feedback\": \"gng_top_feedback_output/\", \"prm_1000\": \"prm_output/\",\n",
    "                     \"prm_4000\": \"prm_dense_output/\", \"prm_2000\": \"prm_dense_hilbert_output/\", \"prm_500\": \"prm_sparse_output/\"}\n",
    "\n",
    "    method_naming = {\"gng\": \"postgng1208_200\", \"gng_top\": \"postgngtop_1208_200\", \"gng_top_feedback\": \"postgngtop_feedback_1208_200\",\n",
    "                               \"prm_1000\": \"postprm1208\", \"prm_4000\": \"postprmdense_2500\", \"prm_2000\": \"postprmdense_hilbert4000\", \"prm_500\" : \"postprmsparse\"}\n",
    "    file_path = f\"../{method_dir[method]}{map_naming[env]}_{method_naming[method]}.pickle\"\n",
    "    print(file_path)\n",
    "    return file_path\n",
    "\n",
    "for e in env_list:\n",
    "    method_env_to_pickle_file_map[e]={}\n",
    "    for m in method_list:\n",
    "        method_env_to_pickle_file_map[e][m] = pk.load(open(get_file_path(e,m), \"rb\"))"
   ]
  },
  {
   "cell_type": "code",
   "execution_count": 6,
   "metadata": {},
   "outputs": [],
   "source": [
    "pd_df = pd.DataFrame.from_dict({\"Row_id\":[],\"all_method_success\":[],\"MAP\":[],\"Method\":[],\"success\":[], \"node_explored\":[], \"path_cost\":[]})\n",
    "def check_if_need_plotting(i,env):\n",
    "    method_list = [\"gng\", \"gng_top\", \"gng_top_feedback\", \"prm_4000\", \"prm_2000\"]\n",
    "    bool_list= [method_env_to_pickle_file_map[env][m][0][i] for m in method_list]\n",
    "    return sum(bool_list)==len(bool_list)\n",
    "\n",
    "for env in env_list:\n",
    "    for m in method_list:\n",
    "        for i,data in enumerate(zip(*method_env_to_pickle_file_map[env][m])):\n",
    "            s, n, p = data\n",
    "            pd_df.loc[len(pd_df)] = (i,check_if_need_plotting(i,env),env,m,s,n if n is not None else \"NA\",p if p is not None else \"NA\")\n",
    "#             pd_df.loc[len(pd_df)] = (i,check_if_need_plotting(i),\"Dummy\",m,s,n,p)   "
   ]
  },
  {
   "cell_type": "code",
   "execution_count": 7,
   "metadata": {},
   "outputs": [
    {
     "data": {
      "text/html": [
       "<div>\n",
       "<style scoped>\n",
       "    .dataframe tbody tr th:only-of-type {\n",
       "        vertical-align: middle;\n",
       "    }\n",
       "\n",
       "    .dataframe tbody tr th {\n",
       "        vertical-align: top;\n",
       "    }\n",
       "\n",
       "    .dataframe thead th {\n",
       "        text-align: right;\n",
       "    }\n",
       "</style>\n",
       "<table border=\"1\" class=\"dataframe\">\n",
       "  <thead>\n",
       "    <tr style=\"text-align: right;\">\n",
       "      <th></th>\n",
       "      <th>Row_id</th>\n",
       "      <th>all_method_success</th>\n",
       "      <th>MAP</th>\n",
       "      <th>Method</th>\n",
       "      <th>success</th>\n",
       "      <th>node_explored</th>\n",
       "      <th>path_cost</th>\n",
       "    </tr>\n",
       "  </thead>\n",
       "  <tbody>\n",
       "    <tr>\n",
       "      <th>0</th>\n",
       "      <td>0.0</td>\n",
       "      <td>1.0</td>\n",
       "      <td>Intel</td>\n",
       "      <td>gng</td>\n",
       "      <td>1.0</td>\n",
       "      <td>311</td>\n",
       "      <td>15.7113</td>\n",
       "    </tr>\n",
       "    <tr>\n",
       "      <th>1</th>\n",
       "      <td>1.0</td>\n",
       "      <td>1.0</td>\n",
       "      <td>Intel</td>\n",
       "      <td>gng</td>\n",
       "      <td>1.0</td>\n",
       "      <td>25</td>\n",
       "      <td>2.47723</td>\n",
       "    </tr>\n",
       "    <tr>\n",
       "      <th>2</th>\n",
       "      <td>2.0</td>\n",
       "      <td>0.0</td>\n",
       "      <td>Intel</td>\n",
       "      <td>gng</td>\n",
       "      <td>0.0</td>\n",
       "      <td>NA</td>\n",
       "      <td>NA</td>\n",
       "    </tr>\n",
       "    <tr>\n",
       "      <th>3</th>\n",
       "      <td>3.0</td>\n",
       "      <td>1.0</td>\n",
       "      <td>Intel</td>\n",
       "      <td>gng</td>\n",
       "      <td>1.0</td>\n",
       "      <td>538</td>\n",
       "      <td>27.3069</td>\n",
       "    </tr>\n",
       "    <tr>\n",
       "      <th>4</th>\n",
       "      <td>4.0</td>\n",
       "      <td>0.0</td>\n",
       "      <td>Intel</td>\n",
       "      <td>gng</td>\n",
       "      <td>0.0</td>\n",
       "      <td>NA</td>\n",
       "      <td>NA</td>\n",
       "    </tr>\n",
       "  </tbody>\n",
       "</table>\n",
       "</div>"
      ],
      "text/plain": [
       "   Row_id  all_method_success    MAP Method  success node_explored path_cost\n",
       "0     0.0                 1.0  Intel    gng      1.0           311   15.7113\n",
       "1     1.0                 1.0  Intel    gng      1.0            25   2.47723\n",
       "2     2.0                 0.0  Intel    gng      0.0            NA        NA\n",
       "3     3.0                 1.0  Intel    gng      1.0           538   27.3069\n",
       "4     4.0                 0.0  Intel    gng      0.0            NA        NA"
      ]
     },
     "execution_count": 7,
     "metadata": {},
     "output_type": "execute_result"
    }
   ],
   "source": [
    "pd_df.head()"
   ]
  },
  {
   "cell_type": "code",
   "execution_count": 8,
   "metadata": {},
   "outputs": [],
   "source": [
    "filtered_method_list = [\"gng\", \"gng_top\", \"gng_top_feedback\", \"prm_4000\", \"prm_2000\"]"
   ]
  },
  {
   "cell_type": "code",
   "execution_count": 9,
   "metadata": {},
   "outputs": [],
   "source": [
    "# ax = sns.barplot(data = pd_df[(pd_df[\"all_method_success\"]==1) & \n",
    "#                               (pd_df[\"Method\"].isin(filtered_method_list))],\n",
    "#                 y = \"node_explored\",hue = \"MAP\" ,  x= \"Method\")\n",
    "# plt.savefig(\"node_explored_bar_plot.eps\")"
   ]
  },
  {
   "cell_type": "code",
   "execution_count": 10,
   "metadata": {},
   "outputs": [],
   "source": [
    "# ax = sns.barplot(data = pd_df[(pd_df[\"all_method_success\"]==1) & \n",
    "#                               (pd_df[\"Method\"].isin(filtered_method_list))],\n",
    "#                 y = \"node_explored\",x = \"MAP\" ,  hue= \"Method\")\n",
    "# # plt.savefig(\"node_explored_bar_plot.eps\")"
   ]
  },
  {
   "cell_type": "code",
   "execution_count": 11,
   "metadata": {},
   "outputs": [],
   "source": [
    "# plt.gcf().clear()\n",
    "# plt.clf()"
   ]
  },
  {
   "cell_type": "code",
   "execution_count": 12,
   "metadata": {},
   "outputs": [
    {
     "name": "stdout",
     "output_type": "stream",
     "text": [
      "Method\n"
     ]
    },
    {
     "data": {
      "image/png": "[encoded data removed]",
      "text/plain": [
       "<Figure size 432x360 with 1 Axes>"
      ]
     },
     "metadata": {},
     "output_type": "display_data"
    }
   ],
   "source": [
    "plot_df =cpy( pd_df[(pd_df[\"all_method_success\"]==1) & \n",
    "                              (pd_df[\"Method\"].isin(filtered_method_list))])\n",
    "plot_df[\"node_explored\"] = pd.to_numeric(plot_df[\"node_explored\"])\n",
    "plt.figure(figsize=(6,5))\n",
    "ax = sns.boxplot(data =plot_df,\n",
    "                y = \"node_explored\", hue = \"MAP\", order=[\"prm_4000\",\"gng\", \"gng_top\", \"gng_top_feedback\", \"prm_2000\"],  x= \"Method\")\n",
    "plt.subplots_adjust(bottom=0.25)\n",
    "ax.set_xticklabels(\n",
    "    ax.get_xticklabels(), \n",
    "    rotation=45, \n",
    "    horizontalalignment='right',\n",
    "#     fontweight='light',\n",
    "#     fontsize='x-large'\n",
    ")\n",
    "plt.savefig(\"node_explored_box_plot.eps\")\n",
    "print(\"Method\")\n"
   ]
  },
  {
   "cell_type": "markdown",
   "metadata": {},
   "source": [
    "## list(ax.get_xticklabels())"
   ]
  },
  {
   "cell_type": "code",
   "execution_count": 13,
   "metadata": {},
   "outputs": [
    {
     "data": {
      "text/plain": [
       "<Figure size 432x288 with 0 Axes>"
      ]
     },
     "metadata": {},
     "output_type": "display_data"
    }
   ],
   "source": [
    "plt.gcf().clear()\n",
    "plt.clf()"
   ]
  },
  {
   "cell_type": "markdown",
   "metadata": {},
   "source": [
    "# Success Count Plots"
   ]
  },
  {
   "cell_type": "code",
   "execution_count": 14,
   "metadata": {},
   "outputs": [],
   "source": [
    "sc_df = pd.DataFrame.from_dict({\"MAP\":[],\"Method\":[],\"success_count\":[]})\n",
    "for env in env_list:\n",
    "    for m in method_list:\n",
    "        c_ = sum(pd_df[(pd_df[\"Method\"]==m) & (pd_df[\"MAP\"]==env)][\"success\"].tolist())\n",
    "        sc_df.loc[len(sc_df)] = (env,m,c_)"
   ]
  },
  {
   "cell_type": "code",
   "execution_count": 32,
   "metadata": {},
   "outputs": [],
   "source": [
    "# Normalization Code\n",
    "sc_df[\"ground_success\"] = [sc_df[(sc_df[\"Method\"]==\"prm_4000\") & (sc_df[\"MAP\"]==M)][\"success_count\"].tolist()[0] for M in sc_df[\"MAP\"]]\n",
    "sc_df[\"success metric\"] = [100*s/500 for s,g in zip(sc_df[\"success_count\"],sc_df[\"ground_success\"])]"
   ]
  },
  {
   "cell_type": "code",
   "execution_count": 33,
   "metadata": {},
   "outputs": [],
   "source": [
    "# for i in list(sc_df[\"success_count\"]):\n",
    "#     print(f\"{i:.3f}\")\n",
    "# for me in method_list:\n",
    "#     print(me)"
   ]
  },
  {
   "cell_type": "code",
   "execution_count": 36,
   "metadata": {},
   "outputs": [
    {
     "data": {
      "image/png": "[encoded data removed]",
      "text/plain": [
       "<Figure size 432x360 with 1 Axes>"
      ]
     },
     "metadata": {},
     "output_type": "display_data"
    }
   ],
   "source": [
    "plt.figure(figsize=(6,5))\n",
    "ax = sns.barplot(data = sc_df, y = \"success metric\", hue = \"MAP\", order=[\"prm_4000\",\"gng_top_feedback\",\"gng_top\", \"gng\", \"prm_2000\", \"prm_1000\", \"prm_500\"],  x= \"Method\")\n",
    "\n",
    "plt.subplots_adjust(bottom=0.25)\n",
    "ax.set(xlabel='', ylabel='Success Rate (%)')\n",
    "ax.set_xticklabels(\n",
    "    [\"dense PRM*\",\"topological GNG\",\"no feedback\", \"standard GNG\", \"PRM*-2000\", \"PRM*-1000\", \"PRM*-500\"], \n",
    "    rotation=45, \n",
    "    horizontalalignment='right',\n",
    ")\n",
    "plt.savefig(\"star_success_count_plots.png\", dpi=300)"
   ]
  },
  {
   "cell_type": "code",
   "execution_count": 37,
   "metadata": {},
   "outputs": [
    {
     "data": {
      "text/plain": [
       "<Figure size 432x288 with 0 Axes>"
      ]
     },
     "metadata": {},
     "output_type": "display_data"
    }
   ],
   "source": [
    "plt.gcf().clear()\n",
    "plt.clf()"
   ]
  },
  {
   "cell_type": "markdown",
   "metadata": {},
   "source": [
    "# SPC Metric"
   ]
  },
  {
   "cell_type": "code",
   "execution_count": 38,
   "metadata": {},
   "outputs": [],
   "source": [
    "spc_df = cpy(pd_df)"
   ]
  },
  {
   "cell_type": "code",
   "execution_count": 41,
   "metadata": {},
   "outputs": [],
   "source": [
    "spc_df = pd.DataFrame.from_dict({\"MAP\":[],\"Method\":[],\"spc_metric\":[]})\n",
    "\n",
    "def calculate_spc_metric(env, method):\n",
    "    pk_file_m = method_env_to_pickle_file_map[env][method]\n",
    "    pk_file_dense = method_env_to_pickle_file_map[env][\"prm_4000\"]\n",
    "    \n",
    "    row_calculus_sum = 0\n",
    "    for i in range(len(pk_file_m[0])):\n",
    "        if pk_file_dense[0][i] and pk_file_m[0][i]:\n",
    "            row_calculus_sum += pk_file_dense[2][i] / pk_file_m[2][i] #( max(pk_file_dense[2][i],pk_file_m[2][i]) )\n",
    "            \n",
    "    return row_calculus_sum\n",
    "\n",
    "for e in env_list:\n",
    "    for m in method_list:\n",
    "        spc_metric = calculate_spc_metric(e,m)\n",
    "        spc_df.loc[len(spc_df)] = (e,m,spc_metric)"
   ]
  },
  {
   "cell_type": "code",
   "execution_count": 42,
   "metadata": {},
   "outputs": [
    {
     "name": "stdout",
     "output_type": "stream",
     "text": [
      "0.748\n",
      "0.764\n",
      "0.837\n",
      "0.666\n",
      "1.000\n",
      "0.847\n",
      "0.228\n",
      "0.787\n",
      "0.745\n",
      "0.891\n",
      "0.838\n",
      "1.000\n",
      "0.985\n",
      "0.368\n",
      "0.396\n",
      "0.456\n",
      "0.875\n",
      "0.786\n",
      "1.000\n",
      "0.962\n",
      "0.182\n"
     ]
    }
   ],
   "source": [
    "# Normalization Code\n",
    "spc_df[\"ground_spc_metric\"] = [spc_df[(spc_df[\"Method\"]==\"prm_4000\") & (spc_df[\"MAP\"]==M)][\"spc_metric\"].tolist()[0] for M in spc_df[\"MAP\"]]\n",
    "spc_df[\"SPC metric\"] = [s/g for s,g in zip(spc_df[\"spc_metric\"],spc_df[\"ground_spc_metric\"])]    \n",
    "spc_df\n",
    "for i in spc_df[\"SPC metric\"]:\n",
    "    print(f\"{i:.3f}\")"
   ]
  },
  {
   "cell_type": "code",
   "execution_count": 43,
   "metadata": {},
   "outputs": [
    {
     "data": {
      "image/png": "[encoded data removed]",
      "text/plain": [
       "<Figure size 432x360 with 1 Axes>"
      ]
     },
     "metadata": {},
     "output_type": "display_data"
    }
   ],
   "source": [
    "plt.figure(figsize=(6,5))\n",
    "ax = sns.barplot(data = spc_df, y = \"SPC metric\", order=[\"prm_4000\",\"gng_top_feedback\",\"gng_top\", \"gng\", \"prm_2000\", \"prm_1000\", \"prm_500\"], hue = \"MAP\" , x= \"Method\")\n",
    "plt.subplots_adjust(bottom=0.25)\n",
    "ax.set(xlabel='', ylabel='Success-weighted Path Cost (SPC)')\n",
    "ax.set_xticklabels(\n",
    "    [\"dense PRM*\",\"topological GNG\",\"no feedback\", \"standard GNG\", \"PRM*-2000\", \"PRM*-1000\", \"PRM*-500\"], \n",
    "    rotation=45, \n",
    "    horizontalalignment='right',\n",
    "\n",
    ")\n",
    "\n",
    "plt.savefig(\"star_spc_metric.png\", dpi=300)"
   ]
  },
  {
   "cell_type": "code",
   "execution_count": 44,
   "metadata": {},
   "outputs": [
    {
     "data": {
      "text/plain": [
       "<Figure size 432x288 with 0 Axes>"
      ]
     },
     "metadata": {},
     "output_type": "display_data"
    }
   ],
   "source": [
    "plt.gcf().clear()\n",
    "plt.clf()"
   ]
  },
  {
   "cell_type": "markdown",
   "metadata": {},
   "source": [
    "# SNE metric\n"
   ]
  },
  {
   "cell_type": "code",
   "execution_count": 45,
   "metadata": {},
   "outputs": [],
   "source": [
    "sne_df = cpy(pd_df)\n",
    "sne_df = pd.DataFrame.from_dict({\"MAP\":[],\"Method\":[],\"sne_metric\":[]})\n",
    "\n",
    "def calculate_sne_metric(env, method):\n",
    "    pk_file_m = method_env_to_pickle_file_map[env][method]\n",
    "    pk_file_dense = method_env_to_pickle_file_map[env][\"prm_4000\"]\n",
    "    \n",
    "    row_calculus_sum = 0\n",
    "    for i in range(len(pk_file_m[0])):\n",
    "        if pk_file_dense[0][i] and pk_file_m[0][i]:\n",
    "            row_calculus_sum += pk_file_dense[1][i] / (pk_file_m[1][i])#( max(pk_file_dense[2][i],pk_file_m[2][i]) )\n",
    "            \n",
    "    return row_calculus_sum\n",
    "\n",
    "for e in env_list:\n",
    "    for m in method_list:\n",
    "        sne_metric = calculate_sne_metric(e,m)\n",
    "        sne_df.loc[len(sne_df)] = (e,m,sne_metric)"
   ]
  },
  {
   "cell_type": "code",
   "execution_count": 46,
   "metadata": {},
   "outputs": [
    {
     "data": {
      "text/html": [
       "<div>\n",
       "<style scoped>\n",
       "    .dataframe tbody tr th:only-of-type {\n",
       "        vertical-align: middle;\n",
       "    }\n",
       "\n",
       "    .dataframe tbody tr th {\n",
       "        vertical-align: top;\n",
       "    }\n",
       "\n",
       "    .dataframe thead th {\n",
       "        text-align: right;\n",
       "    }\n",
       "</style>\n",
       "<table border=\"1\" class=\"dataframe\">\n",
       "  <thead>\n",
       "    <tr style=\"text-align: right;\">\n",
       "      <th></th>\n",
       "      <th>MAP</th>\n",
       "      <th>Method</th>\n",
       "      <th>sne_metric</th>\n",
       "    </tr>\n",
       "  </thead>\n",
       "  <tbody>\n",
       "    <tr>\n",
       "      <th>0</th>\n",
       "      <td>Intel</td>\n",
       "      <td>gng</td>\n",
       "      <td>2944.092315</td>\n",
       "    </tr>\n",
       "    <tr>\n",
       "      <th>1</th>\n",
       "      <td>Intel</td>\n",
       "      <td>gng_top</td>\n",
       "      <td>3085.431491</td>\n",
       "    </tr>\n",
       "    <tr>\n",
       "      <th>2</th>\n",
       "      <td>Intel</td>\n",
       "      <td>gng_top_feedback</td>\n",
       "      <td>3249.149438</td>\n",
       "    </tr>\n",
       "    <tr>\n",
       "      <th>3</th>\n",
       "      <td>Intel</td>\n",
       "      <td>prm_1000</td>\n",
       "      <td>1337.157593</td>\n",
       "    </tr>\n",
       "    <tr>\n",
       "      <th>4</th>\n",
       "      <td>Intel</td>\n",
       "      <td>prm_4000</td>\n",
       "      <td>393.000000</td>\n",
       "    </tr>\n",
       "    <tr>\n",
       "      <th>5</th>\n",
       "      <td>Intel</td>\n",
       "      <td>prm_2000</td>\n",
       "      <td>729.016680</td>\n",
       "    </tr>\n",
       "    <tr>\n",
       "      <th>6</th>\n",
       "      <td>Intel</td>\n",
       "      <td>prm_500</td>\n",
       "      <td>1056.983609</td>\n",
       "    </tr>\n",
       "    <tr>\n",
       "      <th>7</th>\n",
       "      <td>Freiburg</td>\n",
       "      <td>gng</td>\n",
       "      <td>2754.397566</td>\n",
       "    </tr>\n",
       "    <tr>\n",
       "      <th>8</th>\n",
       "      <td>Freiburg</td>\n",
       "      <td>gng_top</td>\n",
       "      <td>2832.894730</td>\n",
       "    </tr>\n",
       "    <tr>\n",
       "      <th>9</th>\n",
       "      <td>Freiburg</td>\n",
       "      <td>gng_top_feedback</td>\n",
       "      <td>3184.017702</td>\n",
       "    </tr>\n",
       "    <tr>\n",
       "      <th>10</th>\n",
       "      <td>Freiburg</td>\n",
       "      <td>prm_1000</td>\n",
       "      <td>1438.148712</td>\n",
       "    </tr>\n",
       "    <tr>\n",
       "      <th>11</th>\n",
       "      <td>Freiburg</td>\n",
       "      <td>prm_4000</td>\n",
       "      <td>350.000000</td>\n",
       "    </tr>\n",
       "    <tr>\n",
       "      <th>12</th>\n",
       "      <td>Freiburg</td>\n",
       "      <td>prm_2000</td>\n",
       "      <td>731.315568</td>\n",
       "    </tr>\n",
       "    <tr>\n",
       "      <th>13</th>\n",
       "      <td>Freiburg</td>\n",
       "      <td>prm_500</td>\n",
       "      <td>1457.461797</td>\n",
       "    </tr>\n",
       "    <tr>\n",
       "      <th>14</th>\n",
       "      <td>FHW</td>\n",
       "      <td>gng</td>\n",
       "      <td>1927.403119</td>\n",
       "    </tr>\n",
       "    <tr>\n",
       "      <th>15</th>\n",
       "      <td>FHW</td>\n",
       "      <td>gng_top</td>\n",
       "      <td>2225.063314</td>\n",
       "    </tr>\n",
       "    <tr>\n",
       "      <th>16</th>\n",
       "      <td>FHW</td>\n",
       "      <td>gng_top_feedback</td>\n",
       "      <td>3845.863025</td>\n",
       "    </tr>\n",
       "    <tr>\n",
       "      <th>17</th>\n",
       "      <td>FHW</td>\n",
       "      <td>prm_1000</td>\n",
       "      <td>1604.130854</td>\n",
       "    </tr>\n",
       "    <tr>\n",
       "      <th>18</th>\n",
       "      <td>FHW</td>\n",
       "      <td>prm_4000</td>\n",
       "      <td>378.000000</td>\n",
       "    </tr>\n",
       "    <tr>\n",
       "      <th>19</th>\n",
       "      <td>FHW</td>\n",
       "      <td>prm_2000</td>\n",
       "      <td>810.940144</td>\n",
       "    </tr>\n",
       "    <tr>\n",
       "      <th>20</th>\n",
       "      <td>FHW</td>\n",
       "      <td>prm_500</td>\n",
       "      <td>807.031321</td>\n",
       "    </tr>\n",
       "  </tbody>\n",
       "</table>\n",
       "</div>"
      ],
      "text/plain": [
       "         MAP            Method   sne_metric\n",
       "0      Intel               gng  2944.092315\n",
       "1      Intel           gng_top  3085.431491\n",
       "2      Intel  gng_top_feedback  3249.149438\n",
       "3      Intel          prm_1000  1337.157593\n",
       "4      Intel          prm_4000   393.000000\n",
       "5      Intel          prm_2000   729.016680\n",
       "6      Intel           prm_500  1056.983609\n",
       "7   Freiburg               gng  2754.397566\n",
       "8   Freiburg           gng_top  2832.894730\n",
       "9   Freiburg  gng_top_feedback  3184.017702\n",
       "10  Freiburg          prm_1000  1438.148712\n",
       "11  Freiburg          prm_4000   350.000000\n",
       "12  Freiburg          prm_2000   731.315568\n",
       "13  Freiburg           prm_500  1457.461797\n",
       "14       FHW               gng  1927.403119\n",
       "15       FHW           gng_top  2225.063314\n",
       "16       FHW  gng_top_feedback  3845.863025\n",
       "17       FHW          prm_1000  1604.130854\n",
       "18       FHW          prm_4000   378.000000\n",
       "19       FHW          prm_2000   810.940144\n",
       "20       FHW           prm_500   807.031321"
      ]
     },
     "execution_count": 46,
     "metadata": {},
     "output_type": "execute_result"
    }
   ],
   "source": [
    "sne_df"
   ]
  },
  {
   "cell_type": "code",
   "execution_count": 47,
   "metadata": {},
   "outputs": [
    {
     "name": "stdout",
     "output_type": "stream",
     "text": [
      "7.491\n",
      "7.851\n",
      "8.268\n",
      "3.402\n",
      "1.000\n",
      "1.855\n",
      "2.690\n",
      "7.870\n",
      "8.094\n",
      "9.097\n",
      "4.109\n",
      "1.000\n",
      "2.089\n",
      "4.164\n",
      "5.099\n",
      "5.886\n",
      "10.174\n",
      "4.244\n",
      "1.000\n",
      "2.145\n",
      "2.135\n"
     ]
    }
   ],
   "source": [
    "# normalization code\n",
    "sne_df[\"ground_sne_metric\"] = [sne_df[(sne_df[\"Method\"]==\"prm_4000\") & (sne_df[\"MAP\"]==M)][\"sne_metric\"].tolist()[0] for M in sne_df[\"MAP\"]]\n",
    "sne_df[\"SNE metric\"] = [s/g for s,g in zip(sne_df[\"sne_metric\"],sne_df[\"ground_sne_metric\"])]\n",
    "for i in sne_df[\"SNE metric\"]:\n",
    "    print(f\"{i:.3f}\")"
   ]
  },
  {
   "cell_type": "code",
   "execution_count": 27,
   "metadata": {},
   "outputs": [
    {
     "data": {
      "image/png": "[encoded data removed]",
      "text/plain": [
       "<Figure size 432x360 with 1 Axes>"
      ]
     },
     "metadata": {},
     "output_type": "display_data"
    }
   ],
   "source": [
    "plt.figure(figsize=(6,5))\n",
    "ax = sns.barplot(data = sne_df, y = \"SNE metric\", order=[\"prm_4000\",\"gng_top_feedback\",\"gng_top\", \"gng\", \"prm_2000\", \"prm_1000\", \"prm_500\"], hue = \"MAP\" ,  x= \"Method\")\n",
    "# plt.show()\n",
    "plt.subplots_adjust(bottom=0.25)\n",
    "ax.set(xlabel='', ylabel='Success-weighted Vertices Explored (SVE)')\n",
    "ax.set_xticklabels(\n",
    "    [\"dense PRM*\",\"topological GNG\",\"no feedback\", \"standard GNG\", \"PRM*-2000\", \"PRM*-1000\", \"PRM*-500\"], \n",
    "    rotation=45, \n",
    "    horizontalalignment='right',\n",
    ")\n",
    "plt.savefig(\"star_sve_metric.png\", dpi=300)"
   ]
  },
  {
   "cell_type": "code",
   "execution_count": 28,
   "metadata": {},
   "outputs": [
    {
     "data": {
      "text/html": [
       "<div>\n",
       "<style scoped>\n",
       "    .dataframe tbody tr th:only-of-type {\n",
       "        vertical-align: middle;\n",
       "    }\n",
       "\n",
       "    .dataframe tbody tr th {\n",
       "        vertical-align: top;\n",
       "    }\n",
       "\n",
       "    .dataframe thead th {\n",
       "        text-align: right;\n",
       "    }\n",
       "</style>\n",
       "<table border=\"1\" class=\"dataframe\">\n",
       "  <thead>\n",
       "    <tr style=\"text-align: right;\">\n",
       "      <th></th>\n",
       "      <th>MAP</th>\n",
       "      <th>Method</th>\n",
       "      <th>sne_metric</th>\n",
       "      <th>ground_sne_metric</th>\n",
       "      <th>SNE metric</th>\n",
       "    </tr>\n",
       "  </thead>\n",
       "  <tbody>\n",
       "    <tr>\n",
       "      <th>0</th>\n",
       "      <td>Intel</td>\n",
       "      <td>gng</td>\n",
       "      <td>2944.092315</td>\n",
       "      <td>393.0</td>\n",
       "      <td>7.491329</td>\n",
       "    </tr>\n",
       "    <tr>\n",
       "      <th>1</th>\n",
       "      <td>Intel</td>\n",
       "      <td>gng_top</td>\n",
       "      <td>3085.431491</td>\n",
       "      <td>393.0</td>\n",
       "      <td>7.850971</td>\n",
       "    </tr>\n",
       "    <tr>\n",
       "      <th>2</th>\n",
       "      <td>Intel</td>\n",
       "      <td>gng_top_feedback</td>\n",
       "      <td>3249.149438</td>\n",
       "      <td>393.0</td>\n",
       "      <td>8.267556</td>\n",
       "    </tr>\n",
       "    <tr>\n",
       "      <th>3</th>\n",
       "      <td>Intel</td>\n",
       "      <td>prm_1000</td>\n",
       "      <td>1337.157593</td>\n",
       "      <td>393.0</td>\n",
       "      <td>3.402437</td>\n",
       "    </tr>\n",
       "    <tr>\n",
       "      <th>4</th>\n",
       "      <td>Intel</td>\n",
       "      <td>prm_4000</td>\n",
       "      <td>393.000000</td>\n",
       "      <td>393.0</td>\n",
       "      <td>1.000000</td>\n",
       "    </tr>\n",
       "    <tr>\n",
       "      <th>5</th>\n",
       "      <td>Intel</td>\n",
       "      <td>prm_2000</td>\n",
       "      <td>729.016680</td>\n",
       "      <td>393.0</td>\n",
       "      <td>1.855004</td>\n",
       "    </tr>\n",
       "    <tr>\n",
       "      <th>6</th>\n",
       "      <td>Intel</td>\n",
       "      <td>prm_500</td>\n",
       "      <td>1056.983609</td>\n",
       "      <td>393.0</td>\n",
       "      <td>2.689526</td>\n",
       "    </tr>\n",
       "    <tr>\n",
       "      <th>7</th>\n",
       "      <td>Freiburg</td>\n",
       "      <td>gng</td>\n",
       "      <td>2754.397566</td>\n",
       "      <td>350.0</td>\n",
       "      <td>7.869707</td>\n",
       "    </tr>\n",
       "    <tr>\n",
       "      <th>8</th>\n",
       "      <td>Freiburg</td>\n",
       "      <td>gng_top</td>\n",
       "      <td>2832.894730</td>\n",
       "      <td>350.0</td>\n",
       "      <td>8.093985</td>\n",
       "    </tr>\n",
       "    <tr>\n",
       "      <th>9</th>\n",
       "      <td>Freiburg</td>\n",
       "      <td>gng_top_feedback</td>\n",
       "      <td>3184.017702</td>\n",
       "      <td>350.0</td>\n",
       "      <td>9.097193</td>\n",
       "    </tr>\n",
       "    <tr>\n",
       "      <th>10</th>\n",
       "      <td>Freiburg</td>\n",
       "      <td>prm_1000</td>\n",
       "      <td>1438.148712</td>\n",
       "      <td>350.0</td>\n",
       "      <td>4.108996</td>\n",
       "    </tr>\n",
       "    <tr>\n",
       "      <th>11</th>\n",
       "      <td>Freiburg</td>\n",
       "      <td>prm_4000</td>\n",
       "      <td>350.000000</td>\n",
       "      <td>350.0</td>\n",
       "      <td>1.000000</td>\n",
       "    </tr>\n",
       "    <tr>\n",
       "      <th>12</th>\n",
       "      <td>Freiburg</td>\n",
       "      <td>prm_2000</td>\n",
       "      <td>731.315568</td>\n",
       "      <td>350.0</td>\n",
       "      <td>2.089473</td>\n",
       "    </tr>\n",
       "    <tr>\n",
       "      <th>13</th>\n",
       "      <td>Freiburg</td>\n",
       "      <td>prm_500</td>\n",
       "      <td>1457.461797</td>\n",
       "      <td>350.0</td>\n",
       "      <td>4.164177</td>\n",
       "    </tr>\n",
       "    <tr>\n",
       "      <th>14</th>\n",
       "      <td>FHW</td>\n",
       "      <td>gng</td>\n",
       "      <td>1927.403119</td>\n",
       "      <td>378.0</td>\n",
       "      <td>5.098950</td>\n",
       "    </tr>\n",
       "    <tr>\n",
       "      <th>15</th>\n",
       "      <td>FHW</td>\n",
       "      <td>gng_top</td>\n",
       "      <td>2225.063314</td>\n",
       "      <td>378.0</td>\n",
       "      <td>5.886411</td>\n",
       "    </tr>\n",
       "    <tr>\n",
       "      <th>16</th>\n",
       "      <td>FHW</td>\n",
       "      <td>gng_top_feedback</td>\n",
       "      <td>3845.863025</td>\n",
       "      <td>378.0</td>\n",
       "      <td>10.174241</td>\n",
       "    </tr>\n",
       "    <tr>\n",
       "      <th>17</th>\n",
       "      <td>FHW</td>\n",
       "      <td>prm_1000</td>\n",
       "      <td>1604.130854</td>\n",
       "      <td>378.0</td>\n",
       "      <td>4.243732</td>\n",
       "    </tr>\n",
       "    <tr>\n",
       "      <th>18</th>\n",
       "      <td>FHW</td>\n",
       "      <td>prm_4000</td>\n",
       "      <td>378.000000</td>\n",
       "      <td>378.0</td>\n",
       "      <td>1.000000</td>\n",
       "    </tr>\n",
       "    <tr>\n",
       "      <th>19</th>\n",
       "      <td>FHW</td>\n",
       "      <td>prm_2000</td>\n",
       "      <td>810.940144</td>\n",
       "      <td>378.0</td>\n",
       "      <td>2.145344</td>\n",
       "    </tr>\n",
       "    <tr>\n",
       "      <th>20</th>\n",
       "      <td>FHW</td>\n",
       "      <td>prm_500</td>\n",
       "      <td>807.031321</td>\n",
       "      <td>378.0</td>\n",
       "      <td>2.135003</td>\n",
       "    </tr>\n",
       "  </tbody>\n",
       "</table>\n",
       "</div>"
      ],
      "text/plain": [
       "         MAP            Method   sne_metric  ground_sne_metric  SNE metric\n",
       "0      Intel               gng  2944.092315              393.0    7.491329\n",
       "1      Intel           gng_top  3085.431491              393.0    7.850971\n",
       "2      Intel  gng_top_feedback  3249.149438              393.0    8.267556\n",
       "3      Intel          prm_1000  1337.157593              393.0    3.402437\n",
       "4      Intel          prm_4000   393.000000              393.0    1.000000\n",
       "5      Intel          prm_2000   729.016680              393.0    1.855004\n",
       "6      Intel           prm_500  1056.983609              393.0    2.689526\n",
       "7   Freiburg               gng  2754.397566              350.0    7.869707\n",
       "8   Freiburg           gng_top  2832.894730              350.0    8.093985\n",
       "9   Freiburg  gng_top_feedback  3184.017702              350.0    9.097193\n",
       "10  Freiburg          prm_1000  1438.148712              350.0    4.108996\n",
       "11  Freiburg          prm_4000   350.000000              350.0    1.000000\n",
       "12  Freiburg          prm_2000   731.315568              350.0    2.089473\n",
       "13  Freiburg           prm_500  1457.461797              350.0    4.164177\n",
       "14       FHW               gng  1927.403119              378.0    5.098950\n",
       "15       FHW           gng_top  2225.063314              378.0    5.886411\n",
       "16       FHW  gng_top_feedback  3845.863025              378.0   10.174241\n",
       "17       FHW          prm_1000  1604.130854              378.0    4.243732\n",
       "18       FHW          prm_4000   378.000000              378.0    1.000000\n",
       "19       FHW          prm_2000   810.940144              378.0    2.145344\n",
       "20       FHW           prm_500   807.031321              378.0    2.135003"
      ]
     },
     "execution_count": 28,
     "metadata": {},
     "output_type": "execute_result"
    }
   ],
   "source": [
    "sne_df"
   ]
  },
  {
   "cell_type": "code",
   "execution_count": null,
   "metadata": {},
   "outputs": [],
   "source": []
  },
  {
   "cell_type": "code",
   "execution_count": null,
   "metadata": {},
   "outputs": [],
   "source": []
  },
  {
   "cell_type": "code",
   "execution_count": null,
   "metadata": {},
   "outputs": [],
   "source": []
  },
  {
   "cell_type": "code",
   "execution_count": null,
   "metadata": {},
   "outputs": [],
   "source": []
  }
 ],
 "metadata": {
  "kernelspec": {
   "display_name": "Python 3",
   "language": "python",
   "name": "python3"
  },
  "language_info": {
   "codemirror_mode": {
    "name": "ipython",
    "version": 3
   },
   "file_extension": ".py",
   "mimetype": "text/x-python",
   "name": "python",
   "nbconvert_exporter": "python",
   "pygments_lexer": "ipython3",
   "version": "3.6.5"
  }
 },
 "nbformat": 4,
 "nbformat_minor": 4
}
